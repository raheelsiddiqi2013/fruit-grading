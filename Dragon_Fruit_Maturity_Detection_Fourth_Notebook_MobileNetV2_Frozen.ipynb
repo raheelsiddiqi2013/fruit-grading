{
  "nbformat": 4,
  "nbformat_minor": 0,
  "metadata": {
    "colab": {
      "provenance": [],
      "gpuType": "T4",
      "include_colab_link": true
    },
    "kernelspec": {
      "name": "python3",
      "display_name": "Python 3"
    },
    "language_info": {
      "name": "python"
    },
    "accelerator": "GPU"
  },
  "cells": [
    {
      "cell_type": "markdown",
      "metadata": {
        "id": "view-in-github",
        "colab_type": "text"
      },
      "source": [
        "<a href=\"https://colab.research.google.com/github/raheelsiddiqi2013/fruit-grading/blob/main/Dragon_Fruit_Maturity_Detection_Fourth_Notebook_MobileNetV2_Frozen.ipynb\" target=\"_parent\"><img src=\"https://colab.research.google.com/assets/colab-badge.svg\" alt=\"Open In Colab\"/></a>"
      ]
    },
    {
      "cell_type": "markdown",
      "source": [
        "# Dragon Fruit Maturity Detection using MobileNetV2 Pre-Trained Model\n",
        "This notebook is written and executed by **Raheel Siddiqi, PhD**. Dragon fruit maturity detection is performed in this notebook. It is a binary classification problem and the two classes are _\"Immature Dragon Fruit\"_ and _\"Mature Dragon Fruit\"_. In total, there are **2,127 images** in the dataset and the dataset has a train-validation-test split of **70-15-15**. The train set contains **1489 images**, the test and validation sets contain **319 images**, respectively. The pre-trained **MobileNetV2 model** is used for feature extraction, while a **densely connected network** is used for final classification. A test set classification accuracy of **100%** has been achieved. This notebook was executed using **Google Colab** and **T4 GPU** as the hardware accelerator.  "
      ],
      "metadata": {
        "id": "psLFwCFO-vmA"
      }
    },
    {
      "cell_type": "markdown",
      "source": [
        "## TensorFlow Version"
      ],
      "metadata": {
        "id": "QpeNzndE2s1h"
      }
    },
    {
      "cell_type": "code",
      "source": [
        "import tensorflow as tf\n",
        "print(tf.__version__)"
      ],
      "metadata": {
        "colab": {
          "base_uri": "https://localhost:8080/"
        },
        "id": "4obGxPkcwW0O",
        "outputId": "ba407b8f-1f2d-479c-e103-f220acf1972d"
      },
      "execution_count": 1,
      "outputs": [
        {
          "output_type": "stream",
          "name": "stdout",
          "text": [
            "2.15.0\n"
          ]
        }
      ]
    },
    {
      "cell_type": "markdown",
      "source": [
        "## Connecting to the Dataset"
      ],
      "metadata": {
        "id": "qFhsVnVr26Qu"
      }
    },
    {
      "cell_type": "code",
      "execution_count": 2,
      "metadata": {
        "colab": {
          "base_uri": "https://localhost:8080/"
        },
        "id": "lWgplwp670TJ",
        "outputId": "07a5e673-68b2-43c6-9c09-4e5838561fb2"
      },
      "outputs": [
        {
          "output_type": "stream",
          "name": "stdout",
          "text": [
            "Mounted at /content/drive\n"
          ]
        }
      ],
      "source": [
        "from google.colab import drive\n",
        "drive.mount(\"/content/drive\")"
      ]
    },
    {
      "cell_type": "code",
      "source": [
        "!ls \"/content/drive/MyDrive/Datasets\""
      ],
      "metadata": {
        "id": "-NDKXOv7-1cz",
        "colab": {
          "base_uri": "https://localhost:8080/"
        },
        "outputId": "9fc223ea-23b0-4f13-d251-bd5c3500065b"
      },
      "execution_count": 3,
      "outputs": [
        {
          "output_type": "stream",
          "name": "stdout",
          "text": [
            "DragonFruitMaturityDetectionDatasetSorted  DragonFruitMaturityDetectionDatasetSorted.zip\n"
          ]
        }
      ]
    },
    {
      "cell_type": "markdown",
      "source": [
        "## Importing Essential Libraries"
      ],
      "metadata": {
        "id": "keYGem826tBb"
      }
    },
    {
      "cell_type": "code",
      "source": [
        "3# Import\n",
        "import numpy as np\n",
        "from PIL import Image\n",
        "import os\n",
        "\n",
        "from tensorflow.keras.layers import Dense, Flatten\n",
        "from tensorflow.keras.models import Sequential\n",
        "from tensorflow.keras.preprocessing.image import ImageDataGenerator\n",
        "from tensorflow.keras.applications import MobileNetV2"
      ],
      "metadata": {
        "id": "D7SbsMIZk2mI"
      },
      "execution_count": 5,
      "outputs": []
    },
    {
      "cell_type": "markdown",
      "source": [
        "## Initializing the Feature Extractor\n",
        "The feature extractor based on MobileNetV2 is initialized here. All layers of the feature extractor are kept frozen."
      ],
      "metadata": {
        "id": "_CLq34xc_6W8"
      }
    },
    {
      "cell_type": "code",
      "source": [
        "mobile_net_v2 = MobileNetV2(weights='imagenet', include_top = False, pooling = \"avg\")\n",
        "for layer in mobile_net_v2.layers:\n",
        "            layer.trainable = False"
      ],
      "metadata": {
        "id": "KCU0OpFdUKOd",
        "colab": {
          "base_uri": "https://localhost:8080/"
        },
        "outputId": "51068460-a359-4581-b0f7-07d7cd1d3eb6"
      },
      "execution_count": 6,
      "outputs": [
        {
          "output_type": "stream",
          "name": "stderr",
          "text": [
            "WARNING:tensorflow:`input_shape` is undefined or non-square, or `rows` is not in [96, 128, 160, 192, 224]. Weights for input shape (224, 224) will be loaded as the default.\n"
          ]
        },
        {
          "output_type": "stream",
          "name": "stdout",
          "text": [
            "Downloading data from https://storage.googleapis.com/tensorflow/keras-applications/mobilenet_v2/mobilenet_v2_weights_tf_dim_ordering_tf_kernels_1.0_224_no_top.h5\n",
            "9406464/9406464 [==============================] - 2s 0us/step\n"
          ]
        }
      ]
    },
    {
      "cell_type": "markdown",
      "source": [
        "## Loading Dataset"
      ],
      "metadata": {
        "id": "KRq5LnmX7DAc"
      }
    },
    {
      "cell_type": "code",
      "source": [
        "# Create Generator\n",
        "train_datagen = ImageDataGenerator(rescale=1./255,\n",
        "                                   rotation_range=40,\n",
        "                                   width_shift_range=0.2,\n",
        "                                   height_shift_range=0.2,\n",
        "                                   shear_range=0.2,\n",
        "                                   zoom_range=0.2\n",
        "                                   )\n",
        "\n",
        "validation_datagen = ImageDataGenerator(rescale=1./255)\n",
        "\n",
        "test_datagen = ImageDataGenerator(rescale=1./255)\n",
        "\n",
        "\n",
        "# Create Data Loaders\n",
        "train_loader = train_datagen.flow_from_directory(\n",
        "    directory = \"/content/drive/MyDrive/Datasets/DragonFruitMaturityDetectionDatasetSorted/Train\",\n",
        "    target_size = (224, 224),\n",
        "    batch_size = 32,\n",
        "    shuffle = True\n",
        ")\n",
        "\n",
        "validation_loader= validation_datagen.flow_from_directory(\n",
        "    directory = \"/content/drive/MyDrive/Datasets/DragonFruitMaturityDetectionDatasetSorted/Validation\",\n",
        "    target_size = (224, 224),\n",
        "    batch_size = 32,\n",
        "    shuffle = True\n",
        ")\n",
        "\n",
        "test_loader = test_datagen.flow_from_directory(\n",
        "    directory = \"/content/drive/MyDrive/Datasets/DragonFruitMaturityDetectionDatasetSorted/Test\",\n",
        "    target_size = (224, 224),\n",
        "    batch_size = 32,\n",
        "    shuffle = True\n",
        ")"
      ],
      "metadata": {
        "colab": {
          "base_uri": "https://localhost:8080/"
        },
        "id": "BSpB4hHelqAP",
        "outputId": "e74ff8e4-97e3-4e16-9bc3-b6629c0b9f9b"
      },
      "execution_count": 7,
      "outputs": [
        {
          "output_type": "stream",
          "name": "stdout",
          "text": [
            "Found 1489 images belonging to 2 classes.\n",
            "Found 319 images belonging to 2 classes.\n",
            "Found 319 images belonging to 2 classes.\n"
          ]
        }
      ]
    },
    {
      "cell_type": "markdown",
      "source": [
        "## Dataset Classes"
      ],
      "metadata": {
        "id": "6OGk90xj7KLB"
      }
    },
    {
      "cell_type": "code",
      "source": [
        "train_loader.class_indices"
      ],
      "metadata": {
        "colab": {
          "base_uri": "https://localhost:8080/"
        },
        "id": "jc-mdQ6UnLW_",
        "outputId": "8938afb6-d734-4b9f-d8c6-3a6456ab43c9"
      },
      "execution_count": 8,
      "outputs": [
        {
          "output_type": "execute_result",
          "data": {
            "text/plain": [
              "{'ImmatureDragonFruit': 0, 'MatureDragonFruit': 1}"
            ]
          },
          "metadata": {},
          "execution_count": 8
        }
      ]
    },
    {
      "cell_type": "markdown",
      "source": [
        "## Model Compilation\n",
        "The model is compiled using **categorical cross entropy** as the loss function and **Adam** as the optimizer with learning rate of **0.0001**."
      ],
      "metadata": {
        "id": "3oj7NbqG7SGC"
      }
    },
    {
      "cell_type": "code",
      "source": [
        "from keras.callbacks import ModelCheckpoint\n",
        "import keras\n",
        "\n",
        "optimizer = tf.keras.optimizers.Adam(learning_rate=0.0001)\n",
        "model1 = Sequential()\n",
        "model1.add(mobile_net_v2)\n",
        "model1.add(Flatten())\n",
        "model1.add(Dense(128, activation='relu'))\n",
        "model1.add(Dense(2, activation='softmax'))\n",
        "model1.compile(loss='categorical_crossentropy',optimizer=optimizer,metrics=['categorical_accuracy'])\n",
        "model1.summary()\n",
        "\n",
        "filepath=\"Dragon_Fruit_MobileNetV2_best_model.keras\"\n",
        "checkpoint = ModelCheckpoint(filepath, monitor=\"val_loss\", save_best_only=True)\n",
        "callbacks_list = [checkpoint]"
      ],
      "metadata": {
        "id": "1rsMRgN_nhI4",
        "colab": {
          "base_uri": "https://localhost:8080/"
        },
        "outputId": "34f841a2-e2c1-4079-e969-e117bc2a7b04"
      },
      "execution_count": 9,
      "outputs": [
        {
          "output_type": "stream",
          "name": "stdout",
          "text": [
            "Model: \"sequential\"\n",
            "_________________________________________________________________\n",
            " Layer (type)                Output Shape              Param #   \n",
            "=================================================================\n",
            " mobilenetv2_1.00_224 (Func  (None, 1280)              2257984   \n",
            " tional)                                                         \n",
            "                                                                 \n",
            " flatten (Flatten)           (None, 1280)              0         \n",
            "                                                                 \n",
            " dense (Dense)               (None, 128)               163968    \n",
            "                                                                 \n",
            " dense_1 (Dense)             (None, 2)                 258       \n",
            "                                                                 \n",
            "=================================================================\n",
            "Total params: 2422210 (9.24 MB)\n",
            "Trainable params: 164226 (641.51 KB)\n",
            "Non-trainable params: 2257984 (8.61 MB)\n",
            "_________________________________________________________________\n"
          ]
        }
      ]
    },
    {
      "cell_type": "markdown",
      "source": [
        "## Model Training\n",
        "The model is trained for **100 epochs**."
      ],
      "metadata": {
        "id": "P0GnYzyj_pND"
      }
    },
    {
      "cell_type": "code",
      "source": [
        "import math\n",
        "\n",
        "model1_train_history = model1.fit_generator(\n",
        "    generator = train_loader,\n",
        "    steps_per_epoch = math.ceil(1489//32),\n",
        "    epochs = 100,\n",
        "    callbacks=callbacks_list,\n",
        "    validation_data = validation_loader,\n",
        "    validation_steps = math.ceil(319//32)\n",
        ")"
      ],
      "metadata": {
        "colab": {
          "base_uri": "https://localhost:8080/"
        },
        "id": "6TIESLTxtEmv",
        "outputId": "3c38299e-4dbb-4bde-d3ac-d1871e4d1422"
      },
      "execution_count": 10,
      "outputs": [
        {
          "output_type": "stream",
          "name": "stderr",
          "text": [
            "<ipython-input-10-05c05e295ad2>:3: UserWarning: `Model.fit_generator` is deprecated and will be removed in a future version. Please use `Model.fit`, which supports generators.\n",
            "  model1_train_history = model1.fit_generator(\n"
          ]
        },
        {
          "output_type": "stream",
          "name": "stdout",
          "text": [
            "Epoch 1/100\n",
            "46/46 [==============================] - 868s 19s/step - loss: 0.2323 - categorical_accuracy: 0.9286 - val_loss: 0.1176 - val_categorical_accuracy: 0.9722\n",
            "Epoch 2/100\n",
            "46/46 [==============================] - 32s 694ms/step - loss: 0.0654 - categorical_accuracy: 0.9815 - val_loss: 0.0557 - val_categorical_accuracy: 0.9757\n",
            "Epoch 3/100\n",
            "46/46 [==============================] - 32s 704ms/step - loss: 0.0329 - categorical_accuracy: 0.9952 - val_loss: 0.0428 - val_categorical_accuracy: 0.9896\n",
            "Epoch 4/100\n",
            "46/46 [==============================] - 32s 702ms/step - loss: 0.0355 - categorical_accuracy: 0.9904 - val_loss: 0.0313 - val_categorical_accuracy: 0.9896\n",
            "Epoch 5/100\n",
            "46/46 [==============================] - 32s 694ms/step - loss: 0.0198 - categorical_accuracy: 0.9973 - val_loss: 0.0253 - val_categorical_accuracy: 0.9931\n",
            "Epoch 6/100\n",
            "46/46 [==============================] - 33s 711ms/step - loss: 0.0187 - categorical_accuracy: 0.9952 - val_loss: 0.0250 - val_categorical_accuracy: 0.9896\n",
            "Epoch 7/100\n",
            "46/46 [==============================] - 31s 681ms/step - loss: 0.0164 - categorical_accuracy: 0.9959 - val_loss: 0.0195 - val_categorical_accuracy: 0.9965\n",
            "Epoch 8/100\n",
            "46/46 [==============================] - 33s 730ms/step - loss: 0.0090 - categorical_accuracy: 0.9993 - val_loss: 0.0180 - val_categorical_accuracy: 0.9965\n",
            "Epoch 9/100\n",
            "46/46 [==============================] - 32s 697ms/step - loss: 0.0172 - categorical_accuracy: 0.9966 - val_loss: 0.0174 - val_categorical_accuracy: 0.9965\n",
            "Epoch 10/100\n",
            "46/46 [==============================] - 33s 724ms/step - loss: 0.0076 - categorical_accuracy: 1.0000 - val_loss: 0.0178 - val_categorical_accuracy: 0.9965\n",
            "Epoch 11/100\n",
            "46/46 [==============================] - 31s 681ms/step - loss: 0.0092 - categorical_accuracy: 0.9986 - val_loss: 0.0140 - val_categorical_accuracy: 0.9965\n",
            "Epoch 12/100\n",
            "46/46 [==============================] - 34s 741ms/step - loss: 0.0088 - categorical_accuracy: 0.9979 - val_loss: 0.0117 - val_categorical_accuracy: 1.0000\n",
            "Epoch 13/100\n",
            "46/46 [==============================] - 33s 722ms/step - loss: 0.0100 - categorical_accuracy: 0.9973 - val_loss: 0.0178 - val_categorical_accuracy: 0.9965\n",
            "Epoch 14/100\n",
            "46/46 [==============================] - 32s 701ms/step - loss: 0.0090 - categorical_accuracy: 0.9973 - val_loss: 0.0102 - val_categorical_accuracy: 0.9965\n",
            "Epoch 15/100\n",
            "46/46 [==============================] - 33s 727ms/step - loss: 0.0062 - categorical_accuracy: 0.9986 - val_loss: 0.0124 - val_categorical_accuracy: 0.9965\n",
            "Epoch 16/100\n",
            "46/46 [==============================] - 37s 800ms/step - loss: 0.0096 - categorical_accuracy: 0.9973 - val_loss: 0.0100 - val_categorical_accuracy: 1.0000\n",
            "Epoch 17/100\n",
            "46/46 [==============================] - 35s 752ms/step - loss: 0.0054 - categorical_accuracy: 0.9993 - val_loss: 0.0081 - val_categorical_accuracy: 0.9965\n",
            "Epoch 18/100\n",
            "46/46 [==============================] - 33s 719ms/step - loss: 0.0073 - categorical_accuracy: 0.9979 - val_loss: 0.0144 - val_categorical_accuracy: 0.9931\n",
            "Epoch 19/100\n",
            "46/46 [==============================] - 31s 682ms/step - loss: 0.0078 - categorical_accuracy: 0.9986 - val_loss: 0.0131 - val_categorical_accuracy: 0.9931\n",
            "Epoch 20/100\n",
            "46/46 [==============================] - 32s 683ms/step - loss: 0.0064 - categorical_accuracy: 0.9993 - val_loss: 0.0090 - val_categorical_accuracy: 0.9965\n",
            "Epoch 21/100\n",
            "46/46 [==============================] - 32s 693ms/step - loss: 0.0045 - categorical_accuracy: 1.0000 - val_loss: 0.0085 - val_categorical_accuracy: 0.9965\n",
            "Epoch 22/100\n",
            "46/46 [==============================] - 33s 717ms/step - loss: 0.0032 - categorical_accuracy: 1.0000 - val_loss: 0.0087 - val_categorical_accuracy: 0.9965\n",
            "Epoch 23/100\n",
            "46/46 [==============================] - 30s 664ms/step - loss: 0.0044 - categorical_accuracy: 0.9993 - val_loss: 0.0105 - val_categorical_accuracy: 1.0000\n",
            "Epoch 24/100\n",
            "46/46 [==============================] - 33s 715ms/step - loss: 0.0036 - categorical_accuracy: 0.9993 - val_loss: 0.0114 - val_categorical_accuracy: 0.9931\n",
            "Epoch 25/100\n",
            "46/46 [==============================] - 31s 677ms/step - loss: 0.0031 - categorical_accuracy: 0.9993 - val_loss: 0.0082 - val_categorical_accuracy: 1.0000\n",
            "Epoch 26/100\n",
            "46/46 [==============================] - 31s 672ms/step - loss: 0.0049 - categorical_accuracy: 0.9986 - val_loss: 0.0102 - val_categorical_accuracy: 0.9965\n",
            "Epoch 27/100\n",
            "46/46 [==============================] - 30s 661ms/step - loss: 0.0030 - categorical_accuracy: 1.0000 - val_loss: 0.0106 - val_categorical_accuracy: 0.9931\n",
            "Epoch 28/100\n",
            "46/46 [==============================] - 30s 663ms/step - loss: 0.0034 - categorical_accuracy: 1.0000 - val_loss: 0.0084 - val_categorical_accuracy: 0.9965\n",
            "Epoch 29/100\n",
            "46/46 [==============================] - 32s 689ms/step - loss: 0.0031 - categorical_accuracy: 0.9993 - val_loss: 0.0056 - val_categorical_accuracy: 1.0000\n",
            "Epoch 30/100\n",
            "46/46 [==============================] - 33s 725ms/step - loss: 0.0032 - categorical_accuracy: 1.0000 - val_loss: 0.0057 - val_categorical_accuracy: 1.0000\n",
            "Epoch 31/100\n",
            "46/46 [==============================] - 33s 722ms/step - loss: 0.0025 - categorical_accuracy: 0.9993 - val_loss: 0.0069 - val_categorical_accuracy: 1.0000\n",
            "Epoch 32/100\n",
            "46/46 [==============================] - 31s 670ms/step - loss: 0.0041 - categorical_accuracy: 0.9986 - val_loss: 0.0064 - val_categorical_accuracy: 0.9965\n",
            "Epoch 33/100\n",
            "46/46 [==============================] - 32s 685ms/step - loss: 0.0031 - categorical_accuracy: 0.9993 - val_loss: 0.0065 - val_categorical_accuracy: 1.0000\n",
            "Epoch 34/100\n",
            "46/46 [==============================] - 30s 663ms/step - loss: 0.0048 - categorical_accuracy: 0.9986 - val_loss: 0.0089 - val_categorical_accuracy: 0.9965\n",
            "Epoch 35/100\n",
            "46/46 [==============================] - 31s 674ms/step - loss: 0.0018 - categorical_accuracy: 1.0000 - val_loss: 0.0064 - val_categorical_accuracy: 0.9965\n",
            "Epoch 36/100\n",
            "46/46 [==============================] - 31s 668ms/step - loss: 0.0020 - categorical_accuracy: 0.9993 - val_loss: 0.0073 - val_categorical_accuracy: 1.0000\n",
            "Epoch 37/100\n",
            "46/46 [==============================] - 31s 669ms/step - loss: 0.0045 - categorical_accuracy: 0.9979 - val_loss: 0.0077 - val_categorical_accuracy: 0.9965\n",
            "Epoch 38/100\n",
            "46/46 [==============================] - 33s 720ms/step - loss: 0.0023 - categorical_accuracy: 1.0000 - val_loss: 0.0065 - val_categorical_accuracy: 1.0000\n",
            "Epoch 39/100\n",
            "46/46 [==============================] - 31s 666ms/step - loss: 0.0021 - categorical_accuracy: 1.0000 - val_loss: 0.0066 - val_categorical_accuracy: 1.0000\n",
            "Epoch 40/100\n",
            "46/46 [==============================] - 31s 681ms/step - loss: 0.0021 - categorical_accuracy: 1.0000 - val_loss: 0.0049 - val_categorical_accuracy: 1.0000\n",
            "Epoch 41/100\n",
            "46/46 [==============================] - 31s 672ms/step - loss: 0.0015 - categorical_accuracy: 1.0000 - val_loss: 0.0057 - val_categorical_accuracy: 1.0000\n",
            "Epoch 42/100\n",
            "46/46 [==============================] - 32s 690ms/step - loss: 0.0028 - categorical_accuracy: 0.9986 - val_loss: 0.0068 - val_categorical_accuracy: 0.9965\n",
            "Epoch 43/100\n",
            "46/46 [==============================] - 31s 675ms/step - loss: 0.0031 - categorical_accuracy: 0.9993 - val_loss: 0.0055 - val_categorical_accuracy: 1.0000\n",
            "Epoch 44/100\n",
            "46/46 [==============================] - 31s 670ms/step - loss: 0.0049 - categorical_accuracy: 0.9986 - val_loss: 0.0062 - val_categorical_accuracy: 1.0000\n",
            "Epoch 45/100\n",
            "46/46 [==============================] - 31s 666ms/step - loss: 0.0027 - categorical_accuracy: 0.9986 - val_loss: 0.0060 - val_categorical_accuracy: 0.9965\n",
            "Epoch 46/100\n",
            "46/46 [==============================] - 31s 671ms/step - loss: 0.0025 - categorical_accuracy: 0.9993 - val_loss: 0.0067 - val_categorical_accuracy: 0.9965\n",
            "Epoch 47/100\n",
            "46/46 [==============================] - 32s 693ms/step - loss: 0.0020 - categorical_accuracy: 1.0000 - val_loss: 0.0047 - val_categorical_accuracy: 1.0000\n",
            "Epoch 48/100\n",
            "46/46 [==============================] - 33s 717ms/step - loss: 0.0020 - categorical_accuracy: 0.9993 - val_loss: 0.0037 - val_categorical_accuracy: 1.0000\n",
            "Epoch 49/100\n",
            "46/46 [==============================] - 31s 664ms/step - loss: 0.0055 - categorical_accuracy: 0.9979 - val_loss: 0.0063 - val_categorical_accuracy: 0.9965\n",
            "Epoch 50/100\n",
            "46/46 [==============================] - 33s 721ms/step - loss: 0.0019 - categorical_accuracy: 1.0000 - val_loss: 0.0101 - val_categorical_accuracy: 0.9931\n",
            "Epoch 51/100\n",
            "46/46 [==============================] - 32s 689ms/step - loss: 0.0016 - categorical_accuracy: 1.0000 - val_loss: 0.0071 - val_categorical_accuracy: 0.9965\n",
            "Epoch 52/100\n",
            "46/46 [==============================] - 33s 722ms/step - loss: 0.0019 - categorical_accuracy: 1.0000 - val_loss: 0.0074 - val_categorical_accuracy: 1.0000\n",
            "Epoch 53/100\n",
            "46/46 [==============================] - 31s 675ms/step - loss: 0.0015 - categorical_accuracy: 0.9993 - val_loss: 0.0063 - val_categorical_accuracy: 1.0000\n",
            "Epoch 54/100\n",
            "46/46 [==============================] - 33s 719ms/step - loss: 0.0011 - categorical_accuracy: 1.0000 - val_loss: 0.0065 - val_categorical_accuracy: 0.9965\n",
            "Epoch 55/100\n",
            "46/46 [==============================] - 33s 726ms/step - loss: 9.0779e-04 - categorical_accuracy: 1.0000 - val_loss: 0.0063 - val_categorical_accuracy: 1.0000\n",
            "Epoch 56/100\n",
            "46/46 [==============================] - 31s 674ms/step - loss: 0.0021 - categorical_accuracy: 0.9993 - val_loss: 0.0076 - val_categorical_accuracy: 0.9965\n",
            "Epoch 57/100\n",
            "46/46 [==============================] - 34s 736ms/step - loss: 0.0035 - categorical_accuracy: 0.9986 - val_loss: 0.0034 - val_categorical_accuracy: 1.0000\n",
            "Epoch 58/100\n",
            "46/46 [==============================] - 31s 671ms/step - loss: 0.0044 - categorical_accuracy: 0.9979 - val_loss: 0.0065 - val_categorical_accuracy: 0.9965\n",
            "Epoch 59/100\n",
            "46/46 [==============================] - 33s 719ms/step - loss: 0.0033 - categorical_accuracy: 0.9986 - val_loss: 0.0044 - val_categorical_accuracy: 1.0000\n",
            "Epoch 60/100\n",
            "46/46 [==============================] - 33s 716ms/step - loss: 0.0018 - categorical_accuracy: 1.0000 - val_loss: 0.0071 - val_categorical_accuracy: 0.9965\n",
            "Epoch 61/100\n",
            "46/46 [==============================] - 33s 720ms/step - loss: 5.2754e-04 - categorical_accuracy: 1.0000 - val_loss: 0.0046 - val_categorical_accuracy: 1.0000\n",
            "Epoch 62/100\n",
            "46/46 [==============================] - 31s 674ms/step - loss: 0.0019 - categorical_accuracy: 0.9993 - val_loss: 0.0071 - val_categorical_accuracy: 0.9965\n",
            "Epoch 63/100\n",
            "46/46 [==============================] - 34s 738ms/step - loss: 0.0016 - categorical_accuracy: 1.0000 - val_loss: 0.0027 - val_categorical_accuracy: 1.0000\n",
            "Epoch 64/100\n",
            "46/46 [==============================] - 30s 663ms/step - loss: 0.0030 - categorical_accuracy: 0.9993 - val_loss: 0.0056 - val_categorical_accuracy: 0.9965\n",
            "Epoch 65/100\n",
            "46/46 [==============================] - 33s 724ms/step - loss: 8.3237e-04 - categorical_accuracy: 1.0000 - val_loss: 0.0068 - val_categorical_accuracy: 0.9965\n",
            "Epoch 66/100\n",
            "46/46 [==============================] - 32s 689ms/step - loss: 0.0013 - categorical_accuracy: 0.9993 - val_loss: 0.0121 - val_categorical_accuracy: 0.9931\n",
            "Epoch 67/100\n",
            "46/46 [==============================] - 32s 691ms/step - loss: 7.6559e-04 - categorical_accuracy: 1.0000 - val_loss: 0.0060 - val_categorical_accuracy: 0.9965\n",
            "Epoch 68/100\n",
            "46/46 [==============================] - 33s 722ms/step - loss: 0.0015 - categorical_accuracy: 0.9993 - val_loss: 0.0062 - val_categorical_accuracy: 0.9965\n",
            "Epoch 69/100\n",
            "46/46 [==============================] - 31s 669ms/step - loss: 0.0042 - categorical_accuracy: 0.9979 - val_loss: 0.0059 - val_categorical_accuracy: 0.9965\n",
            "Epoch 70/100\n",
            "46/46 [==============================] - 33s 709ms/step - loss: 0.0018 - categorical_accuracy: 0.9993 - val_loss: 0.0056 - val_categorical_accuracy: 0.9965\n",
            "Epoch 71/100\n",
            "46/46 [==============================] - 33s 715ms/step - loss: 0.0019 - categorical_accuracy: 0.9993 - val_loss: 0.0035 - val_categorical_accuracy: 1.0000\n",
            "Epoch 72/100\n",
            "46/46 [==============================] - 31s 666ms/step - loss: 0.0013 - categorical_accuracy: 0.9993 - val_loss: 0.0075 - val_categorical_accuracy: 0.9965\n",
            "Epoch 73/100\n",
            "46/46 [==============================] - 30s 663ms/step - loss: 0.0011 - categorical_accuracy: 1.0000 - val_loss: 0.0054 - val_categorical_accuracy: 1.0000\n",
            "Epoch 74/100\n",
            "46/46 [==============================] - 31s 681ms/step - loss: 0.0014 - categorical_accuracy: 0.9993 - val_loss: 0.0093 - val_categorical_accuracy: 0.9965\n",
            "Epoch 75/100\n",
            "46/46 [==============================] - 31s 685ms/step - loss: 0.0015 - categorical_accuracy: 0.9993 - val_loss: 0.0076 - val_categorical_accuracy: 0.9965\n",
            "Epoch 76/100\n",
            "46/46 [==============================] - 31s 678ms/step - loss: 0.0030 - categorical_accuracy: 0.9993 - val_loss: 0.0057 - val_categorical_accuracy: 1.0000\n",
            "Epoch 77/100\n",
            "46/46 [==============================] - 33s 710ms/step - loss: 9.1989e-04 - categorical_accuracy: 1.0000 - val_loss: 0.0083 - val_categorical_accuracy: 0.9965\n",
            "Epoch 78/100\n",
            "46/46 [==============================] - 33s 725ms/step - loss: 0.0023 - categorical_accuracy: 0.9993 - val_loss: 0.0074 - val_categorical_accuracy: 0.9965\n",
            "Epoch 79/100\n",
            "46/46 [==============================] - 34s 726ms/step - loss: 0.0017 - categorical_accuracy: 0.9993 - val_loss: 0.0029 - val_categorical_accuracy: 1.0000\n",
            "Epoch 80/100\n",
            "46/46 [==============================] - 33s 721ms/step - loss: 4.6223e-04 - categorical_accuracy: 1.0000 - val_loss: 0.0050 - val_categorical_accuracy: 1.0000\n",
            "Epoch 81/100\n",
            "46/46 [==============================] - 31s 674ms/step - loss: 2.9162e-04 - categorical_accuracy: 1.0000 - val_loss: 0.0032 - val_categorical_accuracy: 1.0000\n",
            "Epoch 82/100\n",
            "46/46 [==============================] - 33s 722ms/step - loss: 0.0014 - categorical_accuracy: 0.9993 - val_loss: 0.0128 - val_categorical_accuracy: 0.9896\n",
            "Epoch 83/100\n",
            "46/46 [==============================] - 31s 671ms/step - loss: 0.0016 - categorical_accuracy: 0.9993 - val_loss: 0.0041 - val_categorical_accuracy: 1.0000\n",
            "Epoch 84/100\n",
            "46/46 [==============================] - 33s 717ms/step - loss: 0.0028 - categorical_accuracy: 0.9986 - val_loss: 0.0042 - val_categorical_accuracy: 1.0000\n",
            "Epoch 85/100\n",
            "46/46 [==============================] - 33s 717ms/step - loss: 0.0071 - categorical_accuracy: 0.9986 - val_loss: 0.0164 - val_categorical_accuracy: 0.9896\n",
            "Epoch 86/100\n",
            "46/46 [==============================] - 31s 671ms/step - loss: 0.0038 - categorical_accuracy: 0.9986 - val_loss: 0.0069 - val_categorical_accuracy: 0.9965\n",
            "Epoch 87/100\n",
            "46/46 [==============================] - 30s 660ms/step - loss: 0.0025 - categorical_accuracy: 0.9993 - val_loss: 0.0060 - val_categorical_accuracy: 0.9965\n",
            "Epoch 88/100\n",
            "46/46 [==============================] - 33s 713ms/step - loss: 5.2889e-04 - categorical_accuracy: 1.0000 - val_loss: 0.0046 - val_categorical_accuracy: 1.0000\n",
            "Epoch 89/100\n",
            "46/46 [==============================] - 34s 726ms/step - loss: 7.9892e-04 - categorical_accuracy: 1.0000 - val_loss: 0.0039 - val_categorical_accuracy: 1.0000\n",
            "Epoch 90/100\n",
            "46/46 [==============================] - 31s 686ms/step - loss: 0.0022 - categorical_accuracy: 0.9993 - val_loss: 0.0047 - val_categorical_accuracy: 0.9965\n",
            "Epoch 91/100\n",
            "46/46 [==============================] - 31s 668ms/step - loss: 0.0017 - categorical_accuracy: 0.9993 - val_loss: 0.0148 - val_categorical_accuracy: 0.9896\n",
            "Epoch 92/100\n",
            "46/46 [==============================] - 31s 672ms/step - loss: 4.4790e-04 - categorical_accuracy: 1.0000 - val_loss: 0.0030 - val_categorical_accuracy: 1.0000\n",
            "Epoch 93/100\n",
            "46/46 [==============================] - 33s 709ms/step - loss: 0.0012 - categorical_accuracy: 1.0000 - val_loss: 0.0047 - val_categorical_accuracy: 0.9965\n",
            "Epoch 94/100\n",
            "46/46 [==============================] - 33s 716ms/step - loss: 0.0010 - categorical_accuracy: 1.0000 - val_loss: 0.0044 - val_categorical_accuracy: 1.0000\n",
            "Epoch 95/100\n",
            "46/46 [==============================] - 31s 668ms/step - loss: 7.9052e-04 - categorical_accuracy: 1.0000 - val_loss: 0.0045 - val_categorical_accuracy: 1.0000\n",
            "Epoch 96/100\n",
            "46/46 [==============================] - 33s 716ms/step - loss: 0.0025 - categorical_accuracy: 0.9993 - val_loss: 0.0150 - val_categorical_accuracy: 0.9896\n",
            "Epoch 97/100\n",
            "46/46 [==============================] - 34s 734ms/step - loss: 9.5876e-04 - categorical_accuracy: 1.0000 - val_loss: 0.0039 - val_categorical_accuracy: 1.0000\n",
            "Epoch 98/100\n",
            "46/46 [==============================] - 33s 718ms/step - loss: 7.6569e-04 - categorical_accuracy: 1.0000 - val_loss: 0.0039 - val_categorical_accuracy: 1.0000\n",
            "Epoch 99/100\n",
            "46/46 [==============================] - 34s 740ms/step - loss: 0.0030 - categorical_accuracy: 0.9993 - val_loss: 0.0040 - val_categorical_accuracy: 0.9965\n",
            "Epoch 100/100\n",
            "46/46 [==============================] - 33s 716ms/step - loss: 0.0016 - categorical_accuracy: 0.9993 - val_loss: 0.0032 - val_categorical_accuracy: 1.0000\n"
          ]
        }
      ]
    },
    {
      "cell_type": "markdown",
      "source": [
        "## Visualization of the Training Process\n"
      ],
      "metadata": {
        "id": "ovSCFiFpCbHg"
      }
    },
    {
      "cell_type": "code",
      "source": [
        "import matplotlib.pyplot as plt\n",
        "%matplotlib inline\n",
        "\n",
        "acc=model1_train_history.history['categorical_accuracy']\n",
        "val_acc=model1_train_history.history['val_categorical_accuracy']\n",
        "loss=model1_train_history.history['loss']\n",
        "val_loss=model1_train_history.history['val_loss']\n",
        "epochs=range(1,len(acc)+1)\n",
        "plt.xlabel('Epochs')\n",
        "plt.ylabel('Accuracy')\n",
        "plt.plot(epochs, acc, 'bo', label='Training acc')\n",
        "plt.plot(epochs, val_acc, 'b', label='Validation acc')\n",
        "plt.title('Training and validation accuracy')\n",
        "plt.legend()\n",
        "plt.figure()\n",
        "\n",
        "plt.plot(epochs, loss, 'bo', label='Training loss')\n",
        "plt.plot(epochs, val_loss, 'b', label='Validation loss')\n",
        "plt.title('Training and validation loss')\n",
        "plt.xlabel('Epochs')\n",
        "plt.ylabel('Loss')\n",
        "plt.legend()\n",
        "plt.show()"
      ],
      "metadata": {
        "colab": {
          "base_uri": "https://localhost:8080/",
          "height": 947
        },
        "id": "fA6ugY5GFCvU",
        "outputId": "dc9848d1-e728-4da6-c274-9e7c17c4389b"
      },
      "execution_count": 11,
      "outputs": [
        {
          "output_type": "display_data",
          "data": {
            "text/plain": [
              "<Figure size 640x480 with 1 Axes>"
            ],
            "image/png": "[encoded data removed]"
          },
          "metadata": {}
        },
        {
          "output_type": "display_data",
          "data": {
            "text/plain": [
              "<Figure size 640x480 with 1 Axes>"
            ],
            "image/png": "[encoded data removed]"
          },
          "metadata": {}
        }
      ]
    },
    {
      "cell_type": "markdown",
      "source": [
        "## Model Evaluation\n",
        "First, test data is loaded."
      ],
      "metadata": {
        "id": "hsFImR7pDC6F"
      }
    },
    {
      "cell_type": "code",
      "source": [
        "# Preparing test data\n",
        "import glob\n",
        "from pathlib import Path\n",
        "from tensorflow.keras.utils import to_categorical\n",
        "import cv2\n",
        "\n",
        "immature_cases_dir = Path('/content/drive/MyDrive/Datasets/DragonFruitMaturityDetectionDatasetSorted/Test/ImmatureDragonFruit')\n",
        "mature_cases_dir = Path('/content/drive/MyDrive/Datasets/DragonFruitMaturityDetectionDatasetSorted/Test/MatureDragonFruit')\n",
        "\n",
        "immature_cases = immature_cases_dir.glob('*.jpg')\n",
        "mature_cases = mature_cases_dir.glob('*.jpg')\n",
        "\n",
        "image_width=224\n",
        "image_height=224\n",
        "\n",
        "test_data = []\n",
        "test_labels = []\n",
        "\n",
        "for img in immature_cases:\n",
        "    img = cv2.imread(str(img))\n",
        "    img = cv2.resize(img, (image_width,image_height))\n",
        "    if img.shape[2] ==1:\n",
        "        img = np.dstack([img, img, img])\n",
        "    else:\n",
        "        img = cv2.cvtColor(img, cv2.COLOR_BGR2RGB)\n",
        "    img = img.astype(np.float32)/255.\n",
        "    label = [0]\n",
        "    test_data.append(img)\n",
        "    test_labels.append(label)\n",
        "\n",
        "for img in mature_cases:\n",
        "    img = cv2.imread(str(img))\n",
        "    img = cv2.resize(img, (image_width,image_height))\n",
        "    if img.shape[2] ==1:\n",
        "        img = np.dstack([img, img, img])\n",
        "    else:\n",
        "        img = cv2.cvtColor(img, cv2.COLOR_BGR2RGB)\n",
        "    img = img.astype(np.float32)/255.\n",
        "    label = [1]\n",
        "    test_data.append(img)\n",
        "    test_labels.append(label)\n",
        "\n",
        "test_data = np.array(test_data)\n",
        "test_labels = np.array(test_labels)\n",
        "test_labels_one_hot_encoding=to_categorical(test_labels)\n",
        "\n",
        "print(\"Total number of test examples: \", test_data.shape)\n",
        "print(\"Total number of labels:\", test_labels.shape)"
      ],
      "metadata": {
        "id": "6x6FqqlxHcZw",
        "colab": {
          "base_uri": "https://localhost:8080/"
        },
        "outputId": "819e170d-56ac-4341-d2f6-8a04f0de3ce0"
      },
      "execution_count": 12,
      "outputs": [
        {
          "output_type": "stream",
          "name": "stdout",
          "text": [
            "Total number of test examples:  (319, 224, 224, 3)\n",
            "Total number of labels: (319, 1)\n"
          ]
        }
      ]
    },
    {
      "cell_type": "markdown",
      "source": [
        "Then, the best model is loaded."
      ],
      "metadata": {
        "id": "9CvwMp4jWUcb"
      }
    },
    {
      "cell_type": "code",
      "source": [
        "from keras.models import load_model\n",
        "best_model_MobileNetV2 = load_model('Dragon_Fruit_MobileNetV2_best_model.keras')"
      ],
      "metadata": {
        "id": "1Jj1asL3WCA_"
      },
      "execution_count": 13,
      "outputs": []
    },
    {
      "cell_type": "markdown",
      "source": [
        "### Confusion Matrix of the Model's Performance"
      ],
      "metadata": {
        "id": "5ZFDaF10DUQU"
      }
    },
    {
      "cell_type": "code",
      "source": [
        "# Get predictions\n",
        "preds = best_model_MobileNetV2.predict(test_data, batch_size=32)\n",
        "preds=np.around(preds)\n",
        "orig_test_labels=test_labels\n",
        "predicted_labels=np.argmax(preds,axis=1)\n",
        "predicted_labels=np.reshape(predicted_labels,(319,1))"
      ],
      "metadata": {
        "colab": {
          "base_uri": "https://localhost:8080/"
        },
        "id": "oaiP4yWm1-Uk",
        "outputId": "ce5859cf-7477-4f87-e652-d9a9931ad48a"
      },
      "execution_count": 14,
      "outputs": [
        {
          "output_type": "stream",
          "name": "stdout",
          "text": [
            "10/10 [==============================] - 2s 153ms/step\n"
          ]
        }
      ]
    },
    {
      "cell_type": "code",
      "source": [
        "# Get the confusion matrix\n",
        "from sklearn.metrics import confusion_matrix\n",
        "from mlxtend.plotting import plot_confusion_matrix\n",
        "\n",
        "cm  = confusion_matrix(orig_test_labels, predicted_labels)\n",
        "plt.figure()\n",
        "plot_confusion_matrix(cm,figsize=(12,8), hide_ticks=True,cmap=plt.cm.Blues)\n",
        "plt.xticks(range(2), ['Immature','Mature'], fontsize=16)\n",
        "plt.yticks(range(2), ['Immature','Mature'], fontsize=16)\n",
        "plt.show()"
      ],
      "metadata": {
        "colab": {
          "base_uri": "https://localhost:8080/",
          "height": 739
        },
        "id": "9BcPag8X2HYC",
        "outputId": "78d7c827-f47a-4bb4-8585-e258be9df46f"
      },
      "execution_count": 15,
      "outputs": [
        {
          "output_type": "display_data",
          "data": {
            "text/plain": [
              "<Figure size 640x480 with 0 Axes>"
            ]
          },
          "metadata": {}
        },
        {
          "output_type": "display_data",
          "data": {
            "text/plain": [
              "<Figure size 1200x800 with 1 Axes>"
            ],
            "image/png": "[encoded data removed]"
          },
          "metadata": {}
        }
      ]
    },
    {
      "cell_type": "markdown",
      "source": [
        "### Model's Test Set Accuracy"
      ],
      "metadata": {
        "id": "OVk8kzzaDhrT"
      }
    },
    {
      "cell_type": "code",
      "source": [
        "# Evaluation on test dataset\n",
        "\n",
        "test_loss, test_score = best_model_MobileNetV2.evaluate(test_data, test_labels_one_hot_encoding, batch_size=16)\n",
        "print(\"Loss on test set: \", test_loss)\n",
        "print(\"Accuracy on test set: \", test_score)"
      ],
      "metadata": {
        "id": "x5krFJIO3TG6",
        "colab": {
          "base_uri": "https://localhost:8080/"
        },
        "outputId": "0e25bb79-77ae-4b32-feaf-8201d9b579b4"
      },
      "execution_count": 16,
      "outputs": [
        {
          "output_type": "stream",
          "name": "stdout",
          "text": [
            "20/20 [==============================] - 3s 61ms/step - loss: 0.0031 - categorical_accuracy: 1.0000\n",
            "Loss on test set:  0.0031253602355718613\n",
            "Accuracy on test set:  1.0\n"
          ]
        }
      ]
    },
    {
      "cell_type": "markdown",
      "source": [
        "### Model's Sensitivity (recall), Specificity and Precision"
      ],
      "metadata": {
        "id": "Xorqk4mVDpyn"
      }
    },
    {
      "cell_type": "code",
      "source": [
        "# Calculate Precision and Recall\n",
        "tn, fp, fn, tp = cm.ravel()\n",
        "\n",
        "precision = tp/(tp+fp)\n",
        "recall = tp/(tp+fn)\n",
        "specificity=tn/(tn+fp)\n",
        "\n",
        "print(\"Sensitivity (Recall) of the model is {:.3f}\".format(recall))\n",
        "print(\"Specificity of the model is {:.3f}\".format(specificity))\n",
        "print(\"Precision of the model is {:.3f}\".format(precision))"
      ],
      "metadata": {
        "colab": {
          "base_uri": "https://localhost:8080/"
        },
        "id": "PbHWGwg_4QuC",
        "outputId": "12ca57e8-94e3-404f-ac6d-685c21761428"
      },
      "execution_count": 17,
      "outputs": [
        {
          "output_type": "stream",
          "name": "stdout",
          "text": [
            "Sensitivity (Recall) of the model is 1.000\n",
            "Specificity of the model is 1.000\n",
            "Precision of the model is 1.000\n"
          ]
        }
      ]
    },
    {
      "cell_type": "markdown",
      "source": [
        "### Model's ROC Curve and AUC\n",
        "**Receiver operating characteristic** curve (a.k.a ROC) is a graphic plot that illustrates the diagnostic ability of a binary classifier system as its discrimination threshold is varied. The critical point here is \"binary classifier\" and \"varying threshold\". **Area Under the Curve** (a.k.a. AUC) is the percentage of the area that is under this ROC curve, ranging between 0 and 1. ROC is a great way to visualize the performance of a binary classifier, and AUC is one single number to summarize a classifier's performance. The higher the AUC is, the better the classifier."
      ],
      "metadata": {
        "id": "f2uNi2-VEs_M"
      }
    },
    {
      "cell_type": "code",
      "source": [
        "from sklearn.metrics import roc_curve\n",
        "\n",
        "predict_x = best_model_MobileNetV2.predict(test_data)\n",
        "preds = np.argmax(predict_x,axis=1)\n",
        "fpr, tpr, thresholds = roc_curve(test_labels.ravel(), preds)"
      ],
      "metadata": {
        "colab": {
          "base_uri": "https://localhost:8080/"
        },
        "id": "AQAahFPz4hnN",
        "outputId": "c0a28d85-1012-4e23-ca47-324015d41596"
      },
      "execution_count": 18,
      "outputs": [
        {
          "output_type": "stream",
          "name": "stdout",
          "text": [
            "10/10 [==============================] - 0s 42ms/step\n"
          ]
        }
      ]
    },
    {
      "cell_type": "code",
      "source": [
        "from sklearn.metrics import auc\n",
        "auc_var = auc(fpr, tpr)"
      ],
      "metadata": {
        "id": "9ihH0nqI6JJG"
      },
      "execution_count": 19,
      "outputs": []
    },
    {
      "cell_type": "code",
      "source": [
        "import matplotlib.pyplot as plt\n",
        "%matplotlib inline\n",
        "plt.figure(1)\n",
        "plt.plot([0, 1], [0, 1], 'k--')\n",
        "plt.plot(fpr, tpr, label='VGG16 Dragon Fruit Grader (area = {:.3f})'.format(auc_var))\n",
        "plt.xlabel('False positive rate')\n",
        "plt.ylabel('True positive rate')\n",
        "plt.title('ROC curve')\n",
        "plt.legend(loc='best')\n",
        "plt.show()"
      ],
      "metadata": {
        "colab": {
          "base_uri": "https://localhost:8080/",
          "height": 492
        },
        "id": "qPv_7fJp6OIS",
        "outputId": "295be142-3bdb-4eaa-8cff-a2406df4508d"
      },
      "execution_count": 20,
      "outputs": [
        {
          "output_type": "display_data",
          "data": {
            "text/plain": [
              "<Figure size 640x480 with 1 Axes>"
            ],
            "image/png": "[encoded data removed]"
          },
          "metadata": {}
        }
      ]
    },
    {
      "cell_type": "markdown",
      "source": [
        "### Model's Precision-Recall Curve"
      ],
      "metadata": {
        "id": "KbQ9FGIiFqXb"
      }
    },
    {
      "cell_type": "code",
      "source": [
        "from sklearn.metrics import precision_recall_curve\n",
        "from sklearn.metrics import f1_score\n",
        "from sklearn.metrics import average_precision_score"
      ],
      "metadata": {
        "id": "A4UN6sZ76jm0"
      },
      "execution_count": 21,
      "outputs": []
    },
    {
      "cell_type": "code",
      "source": [
        "precision, recall, thresholds = precision_recall_curve(test_labels.ravel(), preds)"
      ],
      "metadata": {
        "id": "mx3hZDg_7daD"
      },
      "execution_count": 22,
      "outputs": []
    },
    {
      "cell_type": "code",
      "source": [
        "auc_var2 = auc(recall, precision)"
      ],
      "metadata": {
        "id": "7JKFA1c-7jGh"
      },
      "execution_count": 23,
      "outputs": []
    },
    {
      "cell_type": "code",
      "source": [
        "plt.figure()\n",
        "plt.plot(recall, precision, label='VGG16 Dragon Fruit Grader (area = {:.3f})'.format(auc_var2))\n",
        "plt.xlabel('Recall')\n",
        "plt.ylabel('Precision')\n",
        "plt.title('Precision-Recall curve')\n",
        "plt.legend(loc='best')\n",
        "plt.show()"
      ],
      "metadata": {
        "colab": {
          "base_uri": "https://localhost:8080/",
          "height": 492
        },
        "id": "hTg5kYQ37w_i",
        "outputId": "60b9f486-7a81-43a8-89fc-45d18a44b5bb"
      },
      "execution_count": 24,
      "outputs": [
        {
          "output_type": "display_data",
          "data": {
            "text/plain": [
              "<Figure size 640x480 with 1 Axes>"
            ],
            "image/png": "[encoded data removed]"
          },
          "metadata": {}
        }
      ]
    },
    {
      "cell_type": "markdown",
      "source": [
        "### Model's Average Precision Score and F1 Score"
      ],
      "metadata": {
        "id": "WbiC436hF05P"
      }
    },
    {
      "cell_type": "code",
      "source": [
        "print('Average Precision Score: {:.3f}'.format(average_precision_score(test_labels.ravel(), preds)))"
      ],
      "metadata": {
        "colab": {
          "base_uri": "https://localhost:8080/"
        },
        "id": "VVjhKNQV78Nr",
        "outputId": "d8fc2b00-66d4-47c8-e809-953fa1935772"
      },
      "execution_count": 25,
      "outputs": [
        {
          "output_type": "stream",
          "name": "stdout",
          "text": [
            "Average Precision Score: 1.000\n"
          ]
        }
      ]
    },
    {
      "cell_type": "code",
      "source": [
        "print(\"F1 Score: {:.3f}\".format(f1_score(test_labels.ravel(),predicted_labels.ravel())))"
      ],
      "metadata": {
        "colab": {
          "base_uri": "https://localhost:8080/"
        },
        "id": "_K_wN51e8C1K",
        "outputId": "85cbb1b8-ce57-4ff1-ab57-5282e204233f"
      },
      "execution_count": 26,
      "outputs": [
        {
          "output_type": "stream",
          "name": "stdout",
          "text": [
            "F1 Score: 1.000\n"
          ]
        }
      ]
    }
  ]
}