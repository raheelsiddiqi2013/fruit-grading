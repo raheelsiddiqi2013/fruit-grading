{
  "nbformat": 4,
  "nbformat_minor": 0,
  "metadata": {
    "colab": {
      "provenance": [],
      "gpuType": "T4",
      "include_colab_link": true
    },
    "kernelspec": {
      "name": "python3",
      "display_name": "Python 3"
    },
    "language_info": {
      "name": "python"
    },
    "accelerator": "GPU"
  },
  "cells": [
    {
      "cell_type": "markdown",
      "metadata": {
        "id": "view-in-github",
        "colab_type": "text"
      },
      "source": [
        "<a href=\"https://colab.research.google.com/github/raheelsiddiqi2013/fruit-grading/blob/main/Dragon_Fruit_Maturity_Detection_Third_Notebook_VGG16_Frozen.ipynb\" target=\"_parent\"><img src=\"https://colab.research.google.com/assets/colab-badge.svg\" alt=\"Open In Colab\"/></a>"
      ]
    },
    {
      "cell_type": "markdown",
      "source": [
        "# Dragon Fruit Maturity Detection using VGG16 Pre-Trained Model\n",
        "This notebook is written and executed by **Raheel Siddiqi, PhD**. Dragon fruit maturity detection is performed in this notebook. It is a binary classification problem and the two classes are _\"Immature Dragon Fruit\"_ and _\"Mature Dragon Fruit\"_. In total, there are **2,127 images** in the dataset and the dataset has a train-validation-test split of **70-15-15**. The train set contains **1489 images**, the test and validation sets contain **319 images**, respectively. The pre-trained **VGG16 model** is used for feature extraction, while a **densely connected network** is used for final classification. A test set classification accuracy of **98.74%** has been achieved. This notebook was executed using **Google Colab** and **T4 GPU** as the hardware accelerator.  "
      ],
      "metadata": {
        "id": "psLFwCFO-vmA"
      }
    },
    {
      "cell_type": "markdown",
      "source": [
        "## TensorFlow Version"
      ],
      "metadata": {
        "id": "QpeNzndE2s1h"
      }
    },
    {
      "cell_type": "code",
      "source": [
        "import tensorflow as tf\n",
        "print(tf.__version__)"
      ],
      "metadata": {
        "colab": {
          "base_uri": "https://localhost:8080/"
        },
        "id": "4obGxPkcwW0O",
        "outputId": "40c7a258-484b-459b-95d1-41bf7fb984b4"
      },
      "execution_count": 1,
      "outputs": [
        {
          "output_type": "stream",
          "name": "stdout",
          "text": [
            "2.15.0\n"
          ]
        }
      ]
    },
    {
      "cell_type": "markdown",
      "source": [
        "## Connecting to the Dataset"
      ],
      "metadata": {
        "id": "qFhsVnVr26Qu"
      }
    },
    {
      "cell_type": "code",
      "execution_count": 2,
      "metadata": {
        "colab": {
          "base_uri": "https://localhost:8080/"
        },
        "id": "lWgplwp670TJ",
        "outputId": "353bcd3d-a5a7-48b5-f6ab-8cbc03aee236"
      },
      "outputs": [
        {
          "output_type": "stream",
          "name": "stdout",
          "text": [
            "Mounted at /content/drive\n"
          ]
        }
      ],
      "source": [
        "from google.colab import drive\n",
        "drive.mount(\"/content/drive\")"
      ]
    },
    {
      "cell_type": "code",
      "source": [
        "!ls \"/content/drive/MyDrive/Datasets\""
      ],
      "metadata": {
        "id": "-NDKXOv7-1cz",
        "colab": {
          "base_uri": "https://localhost:8080/"
        },
        "outputId": "3dcb3e7a-12d5-4c5b-dbd6-d4ade833d35c"
      },
      "execution_count": 3,
      "outputs": [
        {
          "output_type": "stream",
          "name": "stdout",
          "text": [
            "DragonFruitMaturityDetectionDatasetSorted  DragonFruitMaturityDetectionDatasetSorted.zip\n"
          ]
        }
      ]
    },
    {
      "cell_type": "markdown",
      "source": [
        "## Importing Essential Libraries"
      ],
      "metadata": {
        "id": "keYGem826tBb"
      }
    },
    {
      "cell_type": "code",
      "source": [
        "3# Import\n",
        "import numpy as np\n",
        "from PIL import Image\n",
        "import os\n",
        "\n",
        "from tensorflow.keras.layers import Dense, Flatten\n",
        "from tensorflow.keras.models import Sequential\n",
        "from tensorflow.keras.preprocessing.image import ImageDataGenerator\n",
        "from tensorflow.keras.applications.vgg16 import preprocess_input\n",
        "from tensorflow.keras.applications import VGG16"
      ],
      "metadata": {
        "id": "D7SbsMIZk2mI"
      },
      "execution_count": 4,
      "outputs": []
    },
    {
      "cell_type": "markdown",
      "source": [
        "## Initializing the Feature Extractor\n",
        "The feature extractor based on VGG16 is initialized here. All layers of the feature extractor are kept frozen."
      ],
      "metadata": {
        "id": "_CLq34xc_6W8"
      }
    },
    {
      "cell_type": "code",
      "source": [
        "vgg16 = VGG16(weights='imagenet', include_top = False, pooling = \"avg\")\n",
        "for layer in vgg16.layers:\n",
        "            layer.trainable = False"
      ],
      "metadata": {
        "id": "KCU0OpFdUKOd",
        "colab": {
          "base_uri": "https://localhost:8080/"
        },
        "outputId": "4ee6e863-f3c2-4f2b-cbdd-12369be42481"
      },
      "execution_count": 7,
      "outputs": [
        {
          "output_type": "stream",
          "name": "stdout",
          "text": [
            "Downloading data from https://storage.googleapis.com/tensorflow/keras-applications/vgg16/vgg16_weights_tf_dim_ordering_tf_kernels_notop.h5\n",
            "58889256/58889256 [==============================] - 0s 0us/step\n"
          ]
        }
      ]
    },
    {
      "cell_type": "markdown",
      "source": [
        "## Loading Dataset"
      ],
      "metadata": {
        "id": "KRq5LnmX7DAc"
      }
    },
    {
      "cell_type": "code",
      "source": [
        "# Create Generator\n",
        "train_datagen = ImageDataGenerator(rescale=1./255,\n",
        "                                   rotation_range=40,\n",
        "                                   width_shift_range=0.2,\n",
        "                                   height_shift_range=0.2,\n",
        "                                   shear_range=0.2,\n",
        "                                   zoom_range=0.2\n",
        "                                   )\n",
        "\n",
        "validation_datagen = ImageDataGenerator(rescale=1./255)\n",
        "\n",
        "test_datagen = ImageDataGenerator(rescale=1./255)\n",
        "\n",
        "\n",
        "# Create Data Loaders\n",
        "train_loader = train_datagen.flow_from_directory(\n",
        "    directory = \"/content/drive/MyDrive/Datasets/DragonFruitMaturityDetectionDatasetSorted/Train\",\n",
        "    target_size = (224, 224),\n",
        "    batch_size = 32,\n",
        "    shuffle = True\n",
        ")\n",
        "\n",
        "validation_loader= validation_datagen.flow_from_directory(\n",
        "    directory = \"/content/drive/MyDrive/Datasets/DragonFruitMaturityDetectionDatasetSorted/Validation\",\n",
        "    target_size = (224, 224),\n",
        "    batch_size = 32,\n",
        "    shuffle = True\n",
        ")\n",
        "\n",
        "test_loader = test_datagen.flow_from_directory(\n",
        "    directory = \"/content/drive/MyDrive/Datasets/DragonFruitMaturityDetectionDatasetSorted/Test\",\n",
        "    target_size = (224, 224),\n",
        "    batch_size = 32,\n",
        "    shuffle = True\n",
        ")"
      ],
      "metadata": {
        "colab": {
          "base_uri": "https://localhost:8080/"
        },
        "id": "BSpB4hHelqAP",
        "outputId": "9fbfc2c2-af32-44da-f08f-b6310b630033"
      },
      "execution_count": 8,
      "outputs": [
        {
          "output_type": "stream",
          "name": "stdout",
          "text": [
            "Found 1489 images belonging to 2 classes.\n",
            "Found 319 images belonging to 2 classes.\n",
            "Found 319 images belonging to 2 classes.\n"
          ]
        }
      ]
    },
    {
      "cell_type": "markdown",
      "source": [
        "## Dataset Classes"
      ],
      "metadata": {
        "id": "6OGk90xj7KLB"
      }
    },
    {
      "cell_type": "code",
      "source": [
        "train_loader.class_indices"
      ],
      "metadata": {
        "colab": {
          "base_uri": "https://localhost:8080/"
        },
        "id": "jc-mdQ6UnLW_",
        "outputId": "73aa82ee-002c-45fb-fa91-0ae23d4d82ff"
      },
      "execution_count": 9,
      "outputs": [
        {
          "output_type": "execute_result",
          "data": {
            "text/plain": [
              "{'ImmatureDragonFruit': 0, 'MatureDragonFruit': 1}"
            ]
          },
          "metadata": {},
          "execution_count": 9
        }
      ]
    },
    {
      "cell_type": "markdown",
      "source": [
        "## Model Compilation\n",
        "The model is compiled using **categorical cross entropy** as the loss function and **Adam** as the optimizer with learning rate of **0.0001**."
      ],
      "metadata": {
        "id": "3oj7NbqG7SGC"
      }
    },
    {
      "cell_type": "code",
      "source": [
        "from keras.callbacks import ModelCheckpoint\n",
        "import keras\n",
        "\n",
        "optimizer = tf.keras.optimizers.Adam(learning_rate=0.0001)\n",
        "model1 = Sequential()\n",
        "model1.add(vgg16)\n",
        "model1.add(Flatten())\n",
        "model1.add(Dense(128, activation='relu'))\n",
        "model1.add(Dense(2, activation='softmax'))\n",
        "model1.compile(loss='categorical_crossentropy',optimizer=optimizer,metrics=['categorical_accuracy'])\n",
        "model1.summary()\n",
        "\n",
        "filepath=\"Dragon_Fruit_VGG16_best_model3.keras\"\n",
        "checkpoint = ModelCheckpoint(filepath, monitor=\"val_loss\", save_best_only=True)\n",
        "callbacks_list = [checkpoint]"
      ],
      "metadata": {
        "id": "1rsMRgN_nhI4",
        "colab": {
          "base_uri": "https://localhost:8080/"
        },
        "outputId": "3c7135d7-92bb-47cd-e95d-37b28283050e"
      },
      "execution_count": 10,
      "outputs": [
        {
          "output_type": "stream",
          "name": "stdout",
          "text": [
            "Model: \"sequential_1\"\n",
            "_________________________________________________________________\n",
            " Layer (type)                Output Shape              Param #   \n",
            "=================================================================\n",
            " vgg16 (Functional)          (None, 512)               14714688  \n",
            "                                                                 \n",
            " flatten (Flatten)           (None, 512)               0         \n",
            "                                                                 \n",
            " dense (Dense)               (None, 128)               65664     \n",
            "                                                                 \n",
            " dense_1 (Dense)             (None, 2)                 258       \n",
            "                                                                 \n",
            "=================================================================\n",
            "Total params: 14780610 (56.38 MB)\n",
            "Trainable params: 65922 (257.51 KB)\n",
            "Non-trainable params: 14714688 (56.13 MB)\n",
            "_________________________________________________________________\n"
          ]
        }
      ]
    },
    {
      "cell_type": "markdown",
      "source": [
        "## Model Training\n",
        "The model is trained for **100 epochs**."
      ],
      "metadata": {
        "id": "P0GnYzyj_pND"
      }
    },
    {
      "cell_type": "code",
      "source": [
        "import math\n",
        "\n",
        "model1_train_history = model1.fit_generator(\n",
        "    generator = train_loader,\n",
        "    steps_per_epoch = math.ceil(1489//32),\n",
        "    epochs = 100,\n",
        "    callbacks=callbacks_list,\n",
        "    validation_data = validation_loader,\n",
        "    validation_steps = math.ceil(319//32)\n",
        ")"
      ],
      "metadata": {
        "colab": {
          "base_uri": "https://localhost:8080/"
        },
        "id": "6TIESLTxtEmv",
        "outputId": "fcc566d6-654d-459e-deab-6e88cabece9e"
      },
      "execution_count": 11,
      "outputs": [
        {
          "output_type": "stream",
          "name": "stderr",
          "text": [
            "<ipython-input-11-05c05e295ad2>:3: UserWarning: `Model.fit_generator` is deprecated and will be removed in a future version. Please use `Model.fit`, which supports generators.\n",
            "  model1_train_history = model1.fit_generator(\n"
          ]
        },
        {
          "output_type": "stream",
          "name": "stdout",
          "text": [
            "Epoch 1/100\n",
            "46/46 [==============================] - 431s 9s/step - loss: 0.6510 - categorical_accuracy: 0.6129 - val_loss: 0.5819 - val_categorical_accuracy: 0.6424\n",
            "Epoch 2/100\n",
            "46/46 [==============================] - 34s 742ms/step - loss: 0.5334 - categorical_accuracy: 0.7721 - val_loss: 0.4599 - val_categorical_accuracy: 0.8368\n",
            "Epoch 3/100\n",
            "46/46 [==============================] - 36s 784ms/step - loss: 0.4520 - categorical_accuracy: 0.8394 - val_loss: 0.3899 - val_categorical_accuracy: 0.8681\n",
            "Epoch 4/100\n",
            "46/46 [==============================] - 34s 736ms/step - loss: 0.4011 - categorical_accuracy: 0.8696 - val_loss: 0.3453 - val_categorical_accuracy: 0.8785\n",
            "Epoch 5/100\n",
            "46/46 [==============================] - 36s 786ms/step - loss: 0.3638 - categorical_accuracy: 0.8675 - val_loss: 0.3254 - val_categorical_accuracy: 0.8785\n",
            "Epoch 6/100\n",
            "46/46 [==============================] - 35s 751ms/step - loss: 0.3343 - categorical_accuracy: 0.8861 - val_loss: 0.2860 - val_categorical_accuracy: 0.8924\n",
            "Epoch 7/100\n",
            "46/46 [==============================] - 36s 773ms/step - loss: 0.3071 - categorical_accuracy: 0.9032 - val_loss: 0.2587 - val_categorical_accuracy: 0.8889\n",
            "Epoch 8/100\n",
            "46/46 [==============================] - 35s 757ms/step - loss: 0.2919 - categorical_accuracy: 0.8977 - val_loss: 0.2533 - val_categorical_accuracy: 0.8819\n",
            "Epoch 9/100\n",
            "46/46 [==============================] - 34s 732ms/step - loss: 0.2654 - categorical_accuracy: 0.9163 - val_loss: 0.2357 - val_categorical_accuracy: 0.8958\n",
            "Epoch 10/100\n",
            "46/46 [==============================] - 36s 776ms/step - loss: 0.2553 - categorical_accuracy: 0.9163 - val_loss: 0.2197 - val_categorical_accuracy: 0.9062\n",
            "Epoch 11/100\n",
            "46/46 [==============================] - 34s 733ms/step - loss: 0.2471 - categorical_accuracy: 0.9073 - val_loss: 0.2065 - val_categorical_accuracy: 0.9097\n",
            "Epoch 12/100\n",
            "46/46 [==============================] - 36s 789ms/step - loss: 0.2325 - categorical_accuracy: 0.9128 - val_loss: 0.2028 - val_categorical_accuracy: 0.9167\n",
            "Epoch 13/100\n",
            "46/46 [==============================] - 35s 764ms/step - loss: 0.2218 - categorical_accuracy: 0.9245 - val_loss: 0.1954 - val_categorical_accuracy: 0.9201\n",
            "Epoch 14/100\n",
            "46/46 [==============================] - 35s 766ms/step - loss: 0.2077 - categorical_accuracy: 0.9300 - val_loss: 0.1778 - val_categorical_accuracy: 0.9306\n",
            "Epoch 15/100\n",
            "46/46 [==============================] - 34s 743ms/step - loss: 0.2007 - categorical_accuracy: 0.9334 - val_loss: 0.1742 - val_categorical_accuracy: 0.9236\n",
            "Epoch 16/100\n",
            "46/46 [==============================] - 34s 739ms/step - loss: 0.1978 - categorical_accuracy: 0.9266 - val_loss: 0.1654 - val_categorical_accuracy: 0.9236\n",
            "Epoch 17/100\n",
            "46/46 [==============================] - 36s 776ms/step - loss: 0.1903 - categorical_accuracy: 0.9362 - val_loss: 0.1616 - val_categorical_accuracy: 0.9236\n",
            "Epoch 18/100\n",
            "46/46 [==============================] - 35s 770ms/step - loss: 0.1810 - categorical_accuracy: 0.9458 - val_loss: 0.1548 - val_categorical_accuracy: 0.9514\n",
            "Epoch 19/100\n",
            "46/46 [==============================] - 35s 766ms/step - loss: 0.1774 - categorical_accuracy: 0.9368 - val_loss: 0.1446 - val_categorical_accuracy: 0.9549\n",
            "Epoch 20/100\n",
            "46/46 [==============================] - 36s 776ms/step - loss: 0.1698 - categorical_accuracy: 0.9444 - val_loss: 0.1351 - val_categorical_accuracy: 0.9583\n",
            "Epoch 21/100\n",
            "46/46 [==============================] - 35s 749ms/step - loss: 0.1645 - categorical_accuracy: 0.9458 - val_loss: 0.1373 - val_categorical_accuracy: 0.9479\n",
            "Epoch 22/100\n",
            "46/46 [==============================] - 33s 724ms/step - loss: 0.1584 - categorical_accuracy: 0.9477 - val_loss: 0.1329 - val_categorical_accuracy: 0.9653\n",
            "Epoch 23/100\n",
            "46/46 [==============================] - 33s 719ms/step - loss: 0.1617 - categorical_accuracy: 0.9403 - val_loss: 0.1298 - val_categorical_accuracy: 0.9653\n",
            "Epoch 24/100\n",
            "46/46 [==============================] - 35s 769ms/step - loss: 0.1491 - categorical_accuracy: 0.9520 - val_loss: 0.1231 - val_categorical_accuracy: 0.9618\n",
            "Epoch 25/100\n",
            "46/46 [==============================] - 35s 769ms/step - loss: 0.1322 - categorical_accuracy: 0.9643 - val_loss: 0.1158 - val_categorical_accuracy: 0.9688\n",
            "Epoch 26/100\n",
            "46/46 [==============================] - 35s 771ms/step - loss: 0.1365 - categorical_accuracy: 0.9602 - val_loss: 0.1091 - val_categorical_accuracy: 0.9653\n",
            "Epoch 27/100\n",
            "46/46 [==============================] - 33s 718ms/step - loss: 0.1363 - categorical_accuracy: 0.9554 - val_loss: 0.1075 - val_categorical_accuracy: 0.9826\n",
            "Epoch 28/100\n",
            "46/46 [==============================] - 33s 719ms/step - loss: 0.1346 - categorical_accuracy: 0.9616 - val_loss: 0.1167 - val_categorical_accuracy: 0.9688\n",
            "Epoch 29/100\n",
            "46/46 [==============================] - 35s 770ms/step - loss: 0.1375 - categorical_accuracy: 0.9568 - val_loss: 0.0993 - val_categorical_accuracy: 0.9792\n",
            "Epoch 30/100\n",
            "46/46 [==============================] - 35s 760ms/step - loss: 0.1262 - categorical_accuracy: 0.9602 - val_loss: 0.1023 - val_categorical_accuracy: 0.9688\n",
            "Epoch 31/100\n",
            "46/46 [==============================] - 33s 715ms/step - loss: 0.1179 - categorical_accuracy: 0.9629 - val_loss: 0.1020 - val_categorical_accuracy: 0.9722\n",
            "Epoch 32/100\n",
            "46/46 [==============================] - 33s 720ms/step - loss: 0.1148 - categorical_accuracy: 0.9643 - val_loss: 0.0964 - val_categorical_accuracy: 0.9688\n",
            "Epoch 33/100\n",
            "46/46 [==============================] - 35s 757ms/step - loss: 0.1202 - categorical_accuracy: 0.9595 - val_loss: 0.0976 - val_categorical_accuracy: 0.9688\n",
            "Epoch 34/100\n",
            "46/46 [==============================] - 35s 766ms/step - loss: 0.1124 - categorical_accuracy: 0.9671 - val_loss: 0.0903 - val_categorical_accuracy: 0.9757\n",
            "Epoch 35/100\n",
            "46/46 [==============================] - 36s 775ms/step - loss: 0.1121 - categorical_accuracy: 0.9650 - val_loss: 0.0890 - val_categorical_accuracy: 0.9722\n",
            "Epoch 36/100\n",
            "46/46 [==============================] - 35s 764ms/step - loss: 0.1093 - categorical_accuracy: 0.9650 - val_loss: 0.0917 - val_categorical_accuracy: 0.9722\n",
            "Epoch 37/100\n",
            "46/46 [==============================] - 34s 745ms/step - loss: 0.1068 - categorical_accuracy: 0.9684 - val_loss: 0.0858 - val_categorical_accuracy: 0.9826\n",
            "Epoch 38/100\n",
            "46/46 [==============================] - 35s 759ms/step - loss: 0.1050 - categorical_accuracy: 0.9650 - val_loss: 0.0881 - val_categorical_accuracy: 0.9792\n",
            "Epoch 39/100\n",
            "46/46 [==============================] - 33s 725ms/step - loss: 0.1045 - categorical_accuracy: 0.9664 - val_loss: 0.0870 - val_categorical_accuracy: 0.9722\n",
            "Epoch 40/100\n",
            "46/46 [==============================] - 35s 754ms/step - loss: 0.1028 - categorical_accuracy: 0.9650 - val_loss: 0.0908 - val_categorical_accuracy: 0.9722\n",
            "Epoch 41/100\n",
            "46/46 [==============================] - 33s 718ms/step - loss: 0.1004 - categorical_accuracy: 0.9698 - val_loss: 0.0841 - val_categorical_accuracy: 0.9722\n",
            "Epoch 42/100\n",
            "46/46 [==============================] - 35s 770ms/step - loss: 0.0949 - categorical_accuracy: 0.9677 - val_loss: 0.0803 - val_categorical_accuracy: 0.9861\n",
            "Epoch 43/100\n",
            "46/46 [==============================] - 35s 763ms/step - loss: 0.0946 - categorical_accuracy: 0.9698 - val_loss: 0.0794 - val_categorical_accuracy: 0.9757\n",
            "Epoch 44/100\n",
            "46/46 [==============================] - 34s 729ms/step - loss: 0.0957 - categorical_accuracy: 0.9739 - val_loss: 0.0741 - val_categorical_accuracy: 0.9826\n",
            "Epoch 45/100\n",
            "46/46 [==============================] - 35s 757ms/step - loss: 0.0888 - categorical_accuracy: 0.9746 - val_loss: 0.0749 - val_categorical_accuracy: 0.9826\n",
            "Epoch 46/100\n",
            "46/46 [==============================] - 35s 768ms/step - loss: 0.0935 - categorical_accuracy: 0.9677 - val_loss: 0.0890 - val_categorical_accuracy: 0.9688\n",
            "Epoch 47/100\n",
            "46/46 [==============================] - 32s 704ms/step - loss: 0.0860 - categorical_accuracy: 0.9746 - val_loss: 0.0770 - val_categorical_accuracy: 0.9826\n",
            "Epoch 48/100\n",
            "46/46 [==============================] - 33s 723ms/step - loss: 0.0895 - categorical_accuracy: 0.9712 - val_loss: 0.0738 - val_categorical_accuracy: 0.9757\n",
            "Epoch 49/100\n",
            "46/46 [==============================] - 35s 757ms/step - loss: 0.0834 - categorical_accuracy: 0.9732 - val_loss: 0.0875 - val_categorical_accuracy: 0.9722\n",
            "Epoch 50/100\n",
            "46/46 [==============================] - 33s 726ms/step - loss: 0.0826 - categorical_accuracy: 0.9760 - val_loss: 0.0632 - val_categorical_accuracy: 0.9896\n",
            "Epoch 51/100\n",
            "46/46 [==============================] - 35s 770ms/step - loss: 0.0837 - categorical_accuracy: 0.9725 - val_loss: 0.0733 - val_categorical_accuracy: 0.9757\n",
            "Epoch 52/100\n",
            "46/46 [==============================] - 35s 767ms/step - loss: 0.0852 - categorical_accuracy: 0.9691 - val_loss: 0.0759 - val_categorical_accuracy: 0.9757\n",
            "Epoch 53/100\n",
            "46/46 [==============================] - 34s 732ms/step - loss: 0.0858 - categorical_accuracy: 0.9691 - val_loss: 0.0843 - val_categorical_accuracy: 0.9688\n",
            "Epoch 54/100\n",
            "46/46 [==============================] - 33s 727ms/step - loss: 0.0866 - categorical_accuracy: 0.9753 - val_loss: 0.0660 - val_categorical_accuracy: 0.9757\n",
            "Epoch 55/100\n",
            "46/46 [==============================] - 33s 715ms/step - loss: 0.0778 - categorical_accuracy: 0.9794 - val_loss: 0.0679 - val_categorical_accuracy: 0.9826\n",
            "Epoch 56/100\n",
            "46/46 [==============================] - 33s 723ms/step - loss: 0.0838 - categorical_accuracy: 0.9643 - val_loss: 0.0779 - val_categorical_accuracy: 0.9757\n",
            "Epoch 57/100\n",
            "46/46 [==============================] - 35s 766ms/step - loss: 0.0875 - categorical_accuracy: 0.9732 - val_loss: 0.0632 - val_categorical_accuracy: 0.9826\n",
            "Epoch 58/100\n",
            "46/46 [==============================] - 35s 758ms/step - loss: 0.0754 - categorical_accuracy: 0.9780 - val_loss: 0.0669 - val_categorical_accuracy: 0.9826\n",
            "Epoch 59/100\n",
            "46/46 [==============================] - 33s 725ms/step - loss: 0.0817 - categorical_accuracy: 0.9794 - val_loss: 0.0679 - val_categorical_accuracy: 0.9826\n",
            "Epoch 60/100\n",
            "46/46 [==============================] - 33s 708ms/step - loss: 0.0700 - categorical_accuracy: 0.9767 - val_loss: 0.0638 - val_categorical_accuracy: 0.9826\n",
            "Epoch 61/100\n",
            "46/46 [==============================] - 35s 757ms/step - loss: 0.0685 - categorical_accuracy: 0.9794 - val_loss: 0.0866 - val_categorical_accuracy: 0.9653\n",
            "Epoch 62/100\n",
            "46/46 [==============================] - 35s 755ms/step - loss: 0.0714 - categorical_accuracy: 0.9801 - val_loss: 0.0701 - val_categorical_accuracy: 0.9792\n",
            "Epoch 63/100\n",
            "46/46 [==============================] - 35s 758ms/step - loss: 0.0669 - categorical_accuracy: 0.9822 - val_loss: 0.0526 - val_categorical_accuracy: 0.9931\n",
            "Epoch 64/100\n",
            "46/46 [==============================] - 33s 712ms/step - loss: 0.0745 - categorical_accuracy: 0.9746 - val_loss: 0.0623 - val_categorical_accuracy: 0.9826\n",
            "Epoch 65/100\n",
            "46/46 [==============================] - 33s 715ms/step - loss: 0.0701 - categorical_accuracy: 0.9808 - val_loss: 0.0616 - val_categorical_accuracy: 0.9826\n",
            "Epoch 66/100\n",
            "46/46 [==============================] - 34s 739ms/step - loss: 0.0755 - categorical_accuracy: 0.9762 - val_loss: 0.0576 - val_categorical_accuracy: 0.9861\n",
            "Epoch 67/100\n",
            "46/46 [==============================] - 35s 758ms/step - loss: 0.0704 - categorical_accuracy: 0.9801 - val_loss: 0.0630 - val_categorical_accuracy: 0.9792\n",
            "Epoch 68/100\n",
            "46/46 [==============================] - 34s 733ms/step - loss: 0.0642 - categorical_accuracy: 0.9815 - val_loss: 0.0549 - val_categorical_accuracy: 0.9896\n",
            "Epoch 69/100\n",
            "46/46 [==============================] - 33s 710ms/step - loss: 0.0697 - categorical_accuracy: 0.9828 - val_loss: 0.0690 - val_categorical_accuracy: 0.9722\n",
            "Epoch 70/100\n",
            "46/46 [==============================] - 34s 734ms/step - loss: 0.0654 - categorical_accuracy: 0.9822 - val_loss: 0.0565 - val_categorical_accuracy: 0.9826\n",
            "Epoch 71/100\n",
            "46/46 [==============================] - 34s 731ms/step - loss: 0.0654 - categorical_accuracy: 0.9753 - val_loss: 0.0627 - val_categorical_accuracy: 0.9757\n",
            "Epoch 72/100\n",
            "46/46 [==============================] - 36s 794ms/step - loss: 0.0583 - categorical_accuracy: 0.9828 - val_loss: 0.0664 - val_categorical_accuracy: 0.9722\n",
            "Epoch 73/100\n",
            "46/46 [==============================] - 46s 993ms/step - loss: 0.0618 - categorical_accuracy: 0.9801 - val_loss: 0.0644 - val_categorical_accuracy: 0.9792\n",
            "Epoch 74/100\n",
            "46/46 [==============================] - 36s 789ms/step - loss: 0.0593 - categorical_accuracy: 0.9842 - val_loss: 0.0539 - val_categorical_accuracy: 0.9861\n",
            "Epoch 75/100\n",
            "46/46 [==============================] - 36s 784ms/step - loss: 0.0643 - categorical_accuracy: 0.9808 - val_loss: 0.0537 - val_categorical_accuracy: 0.9861\n",
            "Epoch 76/100\n",
            "46/46 [==============================] - 34s 731ms/step - loss: 0.0635 - categorical_accuracy: 0.9794 - val_loss: 0.0606 - val_categorical_accuracy: 0.9792\n",
            "Epoch 77/100\n",
            "46/46 [==============================] - 33s 724ms/step - loss: 0.0650 - categorical_accuracy: 0.9835 - val_loss: 0.0681 - val_categorical_accuracy: 0.9722\n",
            "Epoch 78/100\n",
            "46/46 [==============================] - 38s 837ms/step - loss: 0.0584 - categorical_accuracy: 0.9870 - val_loss: 0.0462 - val_categorical_accuracy: 0.9931\n",
            "Epoch 79/100\n",
            "46/46 [==============================] - 36s 773ms/step - loss: 0.0634 - categorical_accuracy: 0.9787 - val_loss: 0.0841 - val_categorical_accuracy: 0.9653\n",
            "Epoch 80/100\n",
            "46/46 [==============================] - 41s 894ms/step - loss: 0.0605 - categorical_accuracy: 0.9787 - val_loss: 0.0716 - val_categorical_accuracy: 0.9688\n",
            "Epoch 81/100\n",
            "46/46 [==============================] - 33s 713ms/step - loss: 0.0623 - categorical_accuracy: 0.9828 - val_loss: 0.0511 - val_categorical_accuracy: 0.9861\n",
            "Epoch 82/100\n",
            "46/46 [==============================] - 36s 785ms/step - loss: 0.0611 - categorical_accuracy: 0.9835 - val_loss: 0.0672 - val_categorical_accuracy: 0.9722\n",
            "Epoch 83/100\n",
            "46/46 [==============================] - 35s 766ms/step - loss: 0.0685 - categorical_accuracy: 0.9746 - val_loss: 0.0598 - val_categorical_accuracy: 0.9792\n",
            "Epoch 84/100\n",
            "46/46 [==============================] - 34s 751ms/step - loss: 0.0618 - categorical_accuracy: 0.9787 - val_loss: 0.0662 - val_categorical_accuracy: 0.9688\n",
            "Epoch 85/100\n",
            "46/46 [==============================] - 36s 779ms/step - loss: 0.0580 - categorical_accuracy: 0.9801 - val_loss: 0.0566 - val_categorical_accuracy: 0.9826\n",
            "Epoch 86/100\n",
            "46/46 [==============================] - 35s 750ms/step - loss: 0.0589 - categorical_accuracy: 0.9828 - val_loss: 0.0673 - val_categorical_accuracy: 0.9722\n",
            "Epoch 87/100\n",
            "46/46 [==============================] - 33s 727ms/step - loss: 0.0499 - categorical_accuracy: 0.9842 - val_loss: 0.0574 - val_categorical_accuracy: 0.9792\n",
            "Epoch 88/100\n",
            "46/46 [==============================] - 35s 768ms/step - loss: 0.0640 - categorical_accuracy: 0.9767 - val_loss: 0.0665 - val_categorical_accuracy: 0.9757\n",
            "Epoch 89/100\n",
            "46/46 [==============================] - 35s 763ms/step - loss: 0.0533 - categorical_accuracy: 0.9863 - val_loss: 0.0655 - val_categorical_accuracy: 0.9722\n",
            "Epoch 90/100\n",
            "46/46 [==============================] - 33s 723ms/step - loss: 0.0529 - categorical_accuracy: 0.9849 - val_loss: 0.0635 - val_categorical_accuracy: 0.9722\n",
            "Epoch 91/100\n",
            "46/46 [==============================] - 36s 773ms/step - loss: 0.0516 - categorical_accuracy: 0.9828 - val_loss: 0.0442 - val_categorical_accuracy: 0.9861\n",
            "Epoch 92/100\n",
            "46/46 [==============================] - 35s 772ms/step - loss: 0.0574 - categorical_accuracy: 0.9787 - val_loss: 0.0504 - val_categorical_accuracy: 0.9792\n",
            "Epoch 93/100\n",
            "46/46 [==============================] - 33s 722ms/step - loss: 0.0484 - categorical_accuracy: 0.9870 - val_loss: 0.0661 - val_categorical_accuracy: 0.9722\n",
            "Epoch 94/100\n",
            "46/46 [==============================] - 33s 721ms/step - loss: 0.0432 - categorical_accuracy: 0.9897 - val_loss: 0.0509 - val_categorical_accuracy: 0.9826\n",
            "Epoch 95/100\n",
            "46/46 [==============================] - 33s 723ms/step - loss: 0.0464 - categorical_accuracy: 0.9890 - val_loss: 0.0459 - val_categorical_accuracy: 0.9861\n",
            "Epoch 96/100\n",
            "46/46 [==============================] - 34s 735ms/step - loss: 0.0484 - categorical_accuracy: 0.9870 - val_loss: 0.0501 - val_categorical_accuracy: 0.9792\n",
            "Epoch 97/100\n",
            "46/46 [==============================] - 35s 767ms/step - loss: 0.0551 - categorical_accuracy: 0.9835 - val_loss: 0.0474 - val_categorical_accuracy: 0.9826\n",
            "Epoch 98/100\n",
            "46/46 [==============================] - 35s 767ms/step - loss: 0.0577 - categorical_accuracy: 0.9808 - val_loss: 0.0692 - val_categorical_accuracy: 0.9722\n",
            "Epoch 99/100\n",
            "46/46 [==============================] - 33s 724ms/step - loss: 0.0543 - categorical_accuracy: 0.9822 - val_loss: 0.0405 - val_categorical_accuracy: 0.9896\n",
            "Epoch 100/100\n",
            "46/46 [==============================] - 35s 757ms/step - loss: 0.0485 - categorical_accuracy: 0.9904 - val_loss: 0.0607 - val_categorical_accuracy: 0.9757\n"
          ]
        }
      ]
    },
    {
      "cell_type": "markdown",
      "source": [
        "## Visualization of the Training Process\n"
      ],
      "metadata": {
        "id": "ovSCFiFpCbHg"
      }
    },
    {
      "cell_type": "code",
      "source": [
        "import matplotlib.pyplot as plt\n",
        "%matplotlib inline\n",
        "\n",
        "acc=model1_train_history.history['categorical_accuracy']\n",
        "val_acc=model1_train_history.history['val_categorical_accuracy']\n",
        "loss=model1_train_history.history['loss']\n",
        "val_loss=model1_train_history.history['val_loss']\n",
        "epochs=range(1,len(acc)+1)\n",
        "plt.xlabel('Epochs')\n",
        "plt.ylabel('Accuracy')\n",
        "plt.plot(epochs, acc, 'bo', label='Training acc')\n",
        "plt.plot(epochs, val_acc, 'b', label='Validation acc')\n",
        "plt.title('Training and validation accuracy')\n",
        "plt.legend()\n",
        "plt.figure()\n",
        "\n",
        "plt.plot(epochs, loss, 'bo', label='Training loss')\n",
        "plt.plot(epochs, val_loss, 'b', label='Validation loss')\n",
        "plt.title('Training and validation loss')\n",
        "plt.xlabel('Epochs')\n",
        "plt.ylabel('Loss')\n",
        "plt.legend()\n",
        "plt.show()"
      ],
      "metadata": {
        "colab": {
          "base_uri": "https://localhost:8080/",
          "height": 947
        },
        "id": "fA6ugY5GFCvU",
        "outputId": "c16b864d-c73b-41f8-ee3f-0dc024f91629"
      },
      "execution_count": 12,
      "outputs": [
        {
          "output_type": "display_data",
          "data": {
            "text/plain": [
              "<Figure size 640x480 with 1 Axes>"
            ],
            "image/png": "[encoded data removed]"
          },
          "metadata": {}
        },
        {
          "output_type": "display_data",
          "data": {
            "text/plain": [
              "<Figure size 640x480 with 1 Axes>"
            ],
            "image/png": "[encoded data removed]"
          },
          "metadata": {}
        }
      ]
    },
    {
      "cell_type": "markdown",
      "source": [
        "## Model Evaluation\n",
        "First, test data is loaded."
      ],
      "metadata": {
        "id": "hsFImR7pDC6F"
      }
    },
    {
      "cell_type": "code",
      "source": [
        "# Preparing test data\n",
        "import glob\n",
        "from pathlib import Path\n",
        "from tensorflow.keras.utils import to_categorical\n",
        "import cv2\n",
        "\n",
        "immature_cases_dir = Path('/content/drive/MyDrive/Datasets/DragonFruitMaturityDetectionDatasetSorted/Test/ImmatureDragonFruit')\n",
        "mature_cases_dir = Path('/content/drive/MyDrive/Datasets/DragonFruitMaturityDetectionDatasetSorted/Test/MatureDragonFruit')\n",
        "\n",
        "immature_cases = immature_cases_dir.glob('*.jpg')\n",
        "mature_cases = mature_cases_dir.glob('*.jpg')\n",
        "\n",
        "image_width=224\n",
        "image_height=224\n",
        "\n",
        "test_data = []\n",
        "test_labels = []\n",
        "\n",
        "for img in immature_cases:\n",
        "    img = cv2.imread(str(img))\n",
        "    img = cv2.resize(img, (image_width,image_height))\n",
        "    if img.shape[2] ==1:\n",
        "        img = np.dstack([img, img, img])\n",
        "    else:\n",
        "        img = cv2.cvtColor(img, cv2.COLOR_BGR2RGB)\n",
        "    img = img.astype(np.float32)/255.\n",
        "    label = [0]\n",
        "    test_data.append(img)\n",
        "    test_labels.append(label)\n",
        "\n",
        "for img in mature_cases:\n",
        "    img = cv2.imread(str(img))\n",
        "    img = cv2.resize(img, (image_width,image_height))\n",
        "    if img.shape[2] ==1:\n",
        "        img = np.dstack([img, img, img])\n",
        "    else:\n",
        "        img = cv2.cvtColor(img, cv2.COLOR_BGR2RGB)\n",
        "    img = img.astype(np.float32)/255.\n",
        "    label = [1]\n",
        "    test_data.append(img)\n",
        "    test_labels.append(label)\n",
        "\n",
        "test_data = np.array(test_data)\n",
        "test_labels = np.array(test_labels)\n",
        "test_labels_one_hot_encoding=to_categorical(test_labels)\n",
        "\n",
        "print(\"Total number of test examples: \", test_data.shape)\n",
        "print(\"Total number of labels:\", test_labels.shape)"
      ],
      "metadata": {
        "id": "6x6FqqlxHcZw",
        "colab": {
          "base_uri": "https://localhost:8080/"
        },
        "outputId": "360f82fd-fc83-4488-f196-e7a258b37f63"
      },
      "execution_count": 13,
      "outputs": [
        {
          "output_type": "stream",
          "name": "stdout",
          "text": [
            "Total number of test examples:  (319, 224, 224, 3)\n",
            "Total number of labels: (319, 1)\n"
          ]
        }
      ]
    },
    {
      "cell_type": "code",
      "source": [
        "from keras.models import load_model\n",
        "best_model_VGG16 = load_model('Dragon_Fruit_VGG16_best_model3.keras')"
      ],
      "metadata": {
        "id": "1Jj1asL3WCA_"
      },
      "execution_count": 14,
      "outputs": []
    },
    {
      "cell_type": "markdown",
      "source": [
        "### Confusion Matrix of the Model's Performance"
      ],
      "metadata": {
        "id": "5ZFDaF10DUQU"
      }
    },
    {
      "cell_type": "code",
      "source": [
        "# Get predictions\n",
        "preds = best_model_VGG16.predict(test_data, batch_size=32)\n",
        "preds=np.around(preds)\n",
        "orig_test_labels=test_labels\n",
        "predicted_labels=np.argmax(preds,axis=1)\n",
        "predicted_labels=np.reshape(predicted_labels,(319,1))"
      ],
      "metadata": {
        "colab": {
          "base_uri": "https://localhost:8080/"
        },
        "id": "oaiP4yWm1-Uk",
        "outputId": "6d9b4678-0051-43b8-f652-95492355eff0"
      },
      "execution_count": 15,
      "outputs": [
        {
          "output_type": "stream",
          "name": "stdout",
          "text": [
            "10/10 [==============================] - 9s 918ms/step\n"
          ]
        }
      ]
    },
    {
      "cell_type": "code",
      "source": [
        "# Get the confusion matrix\n",
        "from sklearn.metrics import confusion_matrix\n",
        "from mlxtend.plotting import plot_confusion_matrix\n",
        "\n",
        "cm  = confusion_matrix(orig_test_labels, predicted_labels)\n",
        "plt.figure()\n",
        "plot_confusion_matrix(cm,figsize=(12,8), hide_ticks=True,cmap=plt.cm.Blues)\n",
        "plt.xticks(range(2), ['Immature','Mature'], fontsize=16)\n",
        "plt.yticks(range(2), ['Immature','Mature'], fontsize=16)\n",
        "plt.show()"
      ],
      "metadata": {
        "colab": {
          "base_uri": "https://localhost:8080/",
          "height": 739
        },
        "id": "9BcPag8X2HYC",
        "outputId": "da497d3b-43c0-4bf4-dc4d-a9c71a5f0922"
      },
      "execution_count": 16,
      "outputs": [
        {
          "output_type": "display_data",
          "data": {
            "text/plain": [
              "<Figure size 640x480 with 0 Axes>"
            ]
          },
          "metadata": {}
        },
        {
          "output_type": "display_data",
          "data": {
            "text/plain": [
              "<Figure size 1200x800 with 1 Axes>"
            ],
            "image/png": "[encoded data removed]"
          },
          "metadata": {}
        }
      ]
    },
    {
      "cell_type": "markdown",
      "source": [
        "### Model's Test Set Accuracy"
      ],
      "metadata": {
        "id": "OVk8kzzaDhrT"
      }
    },
    {
      "cell_type": "code",
      "source": [
        "# Evaluation on test dataset\n",
        "\n",
        "test_loss, test_score = best_model_VGG16.evaluate(test_data, test_labels_one_hot_encoding, batch_size=16)\n",
        "print(\"Loss on test set: \", test_loss)\n",
        "print(\"Accuracy on test set: \", test_score)"
      ],
      "metadata": {
        "id": "x5krFJIO3TG6",
        "colab": {
          "base_uri": "https://localhost:8080/"
        },
        "outputId": "3e3d957b-0793-41c7-b457-dab43a8c41ca"
      },
      "execution_count": 17,
      "outputs": [
        {
          "output_type": "stream",
          "name": "stdout",
          "text": [
            "20/20 [==============================] - 11s 299ms/step - loss: 0.0460 - categorical_accuracy: 0.9875\n",
            "Loss on test set:  0.04595993831753731\n",
            "Accuracy on test set:  0.9874607920646667\n"
          ]
        }
      ]
    },
    {
      "cell_type": "markdown",
      "source": [
        "### Model's Sensitivity (recall), Specificity and Precision"
      ],
      "metadata": {
        "id": "Xorqk4mVDpyn"
      }
    },
    {
      "cell_type": "code",
      "source": [
        "# Calculate Precision and Recall\n",
        "tn, fp, fn, tp = cm.ravel()\n",
        "\n",
        "precision = tp/(tp+fp)\n",
        "recall = tp/(tp+fn)\n",
        "specificity=tn/(tn+fp)\n",
        "\n",
        "print(\"Sensitivity (Recall) of the model is {:.3f}\".format(recall))\n",
        "print(\"Specificity of the model is {:.3f}\".format(specificity))\n",
        "print(\"Precision of the model is {:.3f}\".format(precision))"
      ],
      "metadata": {
        "colab": {
          "base_uri": "https://localhost:8080/"
        },
        "id": "PbHWGwg_4QuC",
        "outputId": "0e498b28-02a3-41e7-cbd8-0a5867dee3c2"
      },
      "execution_count": 18,
      "outputs": [
        {
          "output_type": "stream",
          "name": "stdout",
          "text": [
            "Sensitivity (Recall) of the model is 0.992\n",
            "Specificity of the model is 0.984\n",
            "Precision of the model is 0.978\n"
          ]
        }
      ]
    },
    {
      "cell_type": "markdown",
      "source": [
        "### Model's ROC Curve and AUC\n",
        "**Receiver operating characteristic** curve (a.k.a ROC) is a graphic plot that illustrates the diagnostic ability of a binary classifier system as its discrimination threshold is varied. The critical point here is \"binary classifier\" and \"varying threshold\". **Area Under the Curve** (a.k.a. AUC) is the percentage of the area that is under this ROC curve, ranging between 0 and 1. ROC is a great way to visualize the performance of a binary classifier, and AUC is one single number to summarize a classifier's performance. The higher the AUC is, the better the classifier."
      ],
      "metadata": {
        "id": "f2uNi2-VEs_M"
      }
    },
    {
      "cell_type": "code",
      "source": [
        "from sklearn.metrics import roc_curve\n",
        "\n",
        "predict_x = best_model_VGG16.predict(test_data)\n",
        "preds = np.argmax(predict_x,axis=1)\n",
        "fpr, tpr, thresholds = roc_curve(test_labels.ravel(), preds)"
      ],
      "metadata": {
        "colab": {
          "base_uri": "https://localhost:8080/"
        },
        "id": "AQAahFPz4hnN",
        "outputId": "d83796b2-9c16-4695-afd9-b4c11049fd57"
      },
      "execution_count": 19,
      "outputs": [
        {
          "output_type": "stream",
          "name": "stdout",
          "text": [
            "10/10 [==============================] - 1s 146ms/step\n"
          ]
        }
      ]
    },
    {
      "cell_type": "code",
      "source": [
        "from sklearn.metrics import auc\n",
        "auc_var = auc(fpr, tpr)"
      ],
      "metadata": {
        "id": "9ihH0nqI6JJG"
      },
      "execution_count": 20,
      "outputs": []
    },
    {
      "cell_type": "code",
      "source": [
        "import matplotlib.pyplot as plt\n",
        "%matplotlib inline\n",
        "plt.figure(1)\n",
        "plt.plot([0, 1], [0, 1], 'k--')\n",
        "plt.plot(fpr, tpr, label='VGG16 Dragon Fruit Grader (area = {:.3f})'.format(auc_var))\n",
        "plt.xlabel('False positive rate')\n",
        "plt.ylabel('True positive rate')\n",
        "plt.title('ROC curve')\n",
        "plt.legend(loc='best')\n",
        "plt.show()"
      ],
      "metadata": {
        "colab": {
          "base_uri": "https://localhost:8080/",
          "height": 492
        },
        "id": "qPv_7fJp6OIS",
        "outputId": "ffb47ea4-79fb-4dfa-c1a1-63ba29bdd13d"
      },
      "execution_count": 21,
      "outputs": [
        {
          "output_type": "display_data",
          "data": {
            "text/plain": [
              "<Figure size 640x480 with 1 Axes>"
            ],
            "image/png": "[encoded data removed]"
          },
          "metadata": {}
        }
      ]
    },
    {
      "cell_type": "markdown",
      "source": [
        "### Model's Precision-Recall Curve"
      ],
      "metadata": {
        "id": "KbQ9FGIiFqXb"
      }
    },
    {
      "cell_type": "code",
      "source": [
        "from sklearn.metrics import precision_recall_curve\n",
        "from sklearn.metrics import f1_score\n",
        "from sklearn.metrics import average_precision_score"
      ],
      "metadata": {
        "id": "A4UN6sZ76jm0"
      },
      "execution_count": 22,
      "outputs": []
    },
    {
      "cell_type": "code",
      "source": [
        "precision, recall, thresholds = precision_recall_curve(test_labels.ravel(), preds)"
      ],
      "metadata": {
        "id": "mx3hZDg_7daD"
      },
      "execution_count": 23,
      "outputs": []
    },
    {
      "cell_type": "code",
      "source": [
        "auc_var2 = auc(recall, precision)"
      ],
      "metadata": {
        "id": "7JKFA1c-7jGh"
      },
      "execution_count": 24,
      "outputs": []
    },
    {
      "cell_type": "code",
      "source": [
        "plt.figure()\n",
        "plt.plot(recall, precision, label='VGG16 Dragon Fruit Grader (area = {:.3f})'.format(auc_var2))\n",
        "plt.xlabel('Recall')\n",
        "plt.ylabel('Precision')\n",
        "plt.title('Precision-Recall curve')\n",
        "plt.legend(loc='best')\n",
        "plt.show()"
      ],
      "metadata": {
        "colab": {
          "base_uri": "https://localhost:8080/",
          "height": 492
        },
        "id": "hTg5kYQ37w_i",
        "outputId": "c4458508-4800-4e94-c12a-3c6a9b11f092"
      },
      "execution_count": 25,
      "outputs": [
        {
          "output_type": "display_data",
          "data": {
            "text/plain": [
              "<Figure size 640x480 with 1 Axes>"
            ],
            "image/png": "[encoded data removed]"
          },
          "metadata": {}
        }
      ]
    },
    {
      "cell_type": "markdown",
      "source": [
        "### Model's Average Precision Score and F1 Score"
      ],
      "metadata": {
        "id": "WbiC436hF05P"
      }
    },
    {
      "cell_type": "code",
      "source": [
        "print('Average Precision Score: {:.3f}'.format(average_precision_score(test_labels.ravel(), preds)))"
      ],
      "metadata": {
        "colab": {
          "base_uri": "https://localhost:8080/"
        },
        "id": "VVjhKNQV78Nr",
        "outputId": "18fbdf01-1cff-486f-d8b5-9bd7ebaa90c1"
      },
      "execution_count": 26,
      "outputs": [
        {
          "output_type": "stream",
          "name": "stdout",
          "text": [
            "Average Precision Score: 0.974\n"
          ]
        }
      ]
    },
    {
      "cell_type": "code",
      "source": [
        "print(\"F1 Score: {:.3f}\".format(f1_score(test_labels.ravel(),predicted_labels.ravel())))"
      ],
      "metadata": {
        "colab": {
          "base_uri": "https://localhost:8080/"
        },
        "id": "_K_wN51e8C1K",
        "outputId": "b955516f-fa42-42bf-f573-25dcc6319ff0"
      },
      "execution_count": 27,
      "outputs": [
        {
          "output_type": "stream",
          "name": "stdout",
          "text": [
            "F1 Score: 0.985\n"
          ]
        }
      ]
    }
  ]
}