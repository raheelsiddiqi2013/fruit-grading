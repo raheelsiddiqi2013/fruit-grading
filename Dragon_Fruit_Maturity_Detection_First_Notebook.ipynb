{
  "nbformat": 4,
  "nbformat_minor": 0,
  "metadata": {
    "colab": {
      "provenance": [],
      "include_colab_link": true
    },
    "kernelspec": {
      "name": "python3",
      "display_name": "Python 3"
    },
    "language_info": {
      "name": "python"
    }
  },
  "cells": [
    {
      "cell_type": "markdown",
      "metadata": {
        "id": "view-in-github",
        "colab_type": "text"
      },
      "source": [
        "<a href=\"https://colab.research.google.com/github/raheelsiddiqi2013/fruit-grading/blob/main/Dragon_Fruit_Maturity_Detection_First_Notebook.ipynb\" target=\"_parent\"><img src=\"https://colab.research.google.com/assets/colab-badge.svg\" alt=\"Open In Colab\"/></a>"
      ]
    },
    {
      "cell_type": "markdown",
      "source": [
        "# Dragon Fruit Maturity Detection using VGG16 Pre-Trained Model\n",
        "This notebook is written and executed by **Raheel Siddiqi, PhD**. Dragon fruit maturity detection is performed in this notebook. It is a binary classification problem and the two classes are _\"Immature Dragon Fruit\"_ and _*\"Mature Dragon Fruit\"*_. In total, there are **2,127 images** in the dataset and the dataset has a train-validation-test split of **70-15-15**. The train set contains **1489 images**, the test and validation sets contain **319 images**, respectively. The pre-trained **VGG16 model** is used for feature extraction, while a **densely connected network** is used for final classification. A test set classification accuracy of **100%** has been achieved. This notebook was executed using **Google Colab** and **T4 GPU** as the hardware accelerator.  "
      ],
      "metadata": {
        "id": "psLFwCFO-vmA"
      }
    },
    {
      "cell_type": "markdown",
      "source": [
        "## TensorFlow Version"
      ],
      "metadata": {
        "id": "QpeNzndE2s1h"
      }
    },
    {
      "cell_type": "code",
      "source": [
        "import tensorflow as tf\n",
        "print(tf.__version__)"
      ],
      "metadata": {
        "colab": {
          "base_uri": "https://localhost:8080/"
        },
        "id": "4obGxPkcwW0O",
        "outputId": "955bc43a-a504-4c6c-da0d-4114bba080c2"
      },
      "execution_count": null,
      "outputs": [
        {
          "output_type": "stream",
          "name": "stdout",
          "text": [
            "2.15.0\n"
          ]
        }
      ]
    },
    {
      "cell_type": "markdown",
      "source": [
        "## Connecting to the Dataset"
      ],
      "metadata": {
        "id": "qFhsVnVr26Qu"
      }
    },
    {
      "cell_type": "code",
      "execution_count": null,
      "metadata": {
        "colab": {
          "base_uri": "https://localhost:8080/"
        },
        "id": "lWgplwp670TJ",
        "outputId": "12b29f17-4852-4baf-986b-fffb61b6cce1"
      },
      "outputs": [
        {
          "output_type": "stream",
          "name": "stdout",
          "text": [
            "Mounted at /content/drive\n"
          ]
        }
      ],
      "source": [
        "from google.colab import drive\n",
        "drive.mount(\"/content/drive\")"
      ]
    },
    {
      "cell_type": "code",
      "source": [
        "!ls \"/content/drive/MyDrive/Datasets\""
      ],
      "metadata": {
        "id": "-NDKXOv7-1cz",
        "colab": {
          "base_uri": "https://localhost:8080/"
        },
        "outputId": "5b18342d-87c1-435b-e637-2601c1080849"
      },
      "execution_count": null,
      "outputs": [
        {
          "output_type": "stream",
          "name": "stdout",
          "text": [
            "DragonFruitMaturityDetectionDatasetSorted  DragonFruitMaturityDetectionDatasetSorted.zip\n"
          ]
        }
      ]
    },
    {
      "cell_type": "markdown",
      "source": [
        "## Importing Essential Libraries"
      ],
      "metadata": {
        "id": "keYGem826tBb"
      }
    },
    {
      "cell_type": "code",
      "source": [
        "# Import\n",
        "import numpy as np\n",
        "from PIL import Image\n",
        "import os\n",
        "\n",
        "from tensorflow.keras.layers import Dense, Flatten\n",
        "from tensorflow.keras.models import Sequential\n",
        "from tensorflow.keras.preprocessing.image import ImageDataGenerator\n",
        "from tensorflow.keras.applications.vgg16 import preprocess_input\n",
        "from tensorflow.keras.applications import VGG16"
      ],
      "metadata": {
        "id": "D7SbsMIZk2mI"
      },
      "execution_count": null,
      "outputs": []
    },
    {
      "cell_type": "markdown",
      "source": [
        "## Loading Dataset"
      ],
      "metadata": {
        "id": "KRq5LnmX7DAc"
      }
    },
    {
      "cell_type": "code",
      "source": [
        "# Create Generator\n",
        "train_datagen = ImageDataGenerator(rescale=1./255,\n",
        "                                   rotation_range=40,\n",
        "                                   width_shift_range=0.2,\n",
        "                                   height_shift_range=0.2,\n",
        "                                   shear_range=0.2,\n",
        "                                   zoom_range=0.2\n",
        "                                   )\n",
        "\n",
        "validation_datagen = ImageDataGenerator(rescale=1./255)\n",
        "\n",
        "test_datagen = ImageDataGenerator(rescale=1./255)\n",
        "\n",
        "\n",
        "# Create Data Loaders\n",
        "train_loader = train_datagen.flow_from_directory(\n",
        "    directory = \"/content/drive/MyDrive/Datasets/DragonFruitMaturityDetectionDatasetSorted/Train\",\n",
        "    target_size = (224, 224),\n",
        "    batch_size = 32,\n",
        "    shuffle = True\n",
        ")\n",
        "\n",
        "validation_loader= validation_datagen.flow_from_directory(\n",
        "    directory = \"/content/drive/MyDrive/Datasets/DragonFruitMaturityDetectionDatasetSorted/Validation\",\n",
        "    target_size = (224, 224),\n",
        "    batch_size = 32,\n",
        "    shuffle = True\n",
        ")\n",
        "\n",
        "test_loader = test_datagen.flow_from_directory(\n",
        "    directory = \"/content/drive/MyDrive/Datasets/DragonFruitMaturityDetectionDatasetSorted/Test\",\n",
        "    target_size = (224, 224),\n",
        "    batch_size = 32,\n",
        "    shuffle = True\n",
        ")"
      ],
      "metadata": {
        "colab": {
          "base_uri": "https://localhost:8080/"
        },
        "id": "BSpB4hHelqAP",
        "outputId": "c1e626d6-4163-4939-f151-017b6298da76"
      },
      "execution_count": null,
      "outputs": [
        {
          "output_type": "stream",
          "name": "stdout",
          "text": [
            "Found 1489 images belonging to 2 classes.\n",
            "Found 319 images belonging to 2 classes.\n",
            "Found 319 images belonging to 2 classes.\n"
          ]
        }
      ]
    },
    {
      "cell_type": "markdown",
      "source": [
        "## Dataset Classes"
      ],
      "metadata": {
        "id": "6OGk90xj7KLB"
      }
    },
    {
      "cell_type": "code",
      "source": [
        "train_loader.class_indices"
      ],
      "metadata": {
        "colab": {
          "base_uri": "https://localhost:8080/"
        },
        "id": "jc-mdQ6UnLW_",
        "outputId": "65b7d9b7-18ae-4b14-b0d0-57b86ee184e2"
      },
      "execution_count": null,
      "outputs": [
        {
          "output_type": "execute_result",
          "data": {
            "text/plain": [
              "{'ImmatureDragonFruit': 0, 'MatureDragonFruit': 1}"
            ]
          },
          "metadata": {},
          "execution_count": 6
        }
      ]
    },
    {
      "cell_type": "markdown",
      "source": [
        "## Model Compilation\n",
        "The model is compiled using **categorical cross entropy** as the loss function and **Adam** as the optimizer with learning rate of **0.0001**. It should be noted that all the model parameters, including those of the VGG16 based feature extractor, are trainable."
      ],
      "metadata": {
        "id": "3oj7NbqG7SGC"
      }
    },
    {
      "cell_type": "code",
      "source": [
        "from keras.callbacks import ModelCheckpoint\n",
        "import keras\n",
        "\n",
        "optimizer = tf.keras.optimizers.Adam(learning_rate=0.0001)\n",
        "model1 = Sequential()\n",
        "model1.add(VGG16(include_top = False, pooling = \"avg\"))\n",
        "model1.add(Flatten())\n",
        "model1.add(Dense(128, activation='relu'))\n",
        "model1.add(Dense(2, activation='softmax'))\n",
        "model1.compile(loss='categorical_crossentropy',optimizer=optimizer,metrics=['categorical_accuracy'])\n",
        "model1.summary()\n",
        "\n",
        "filepath=\"Dragon_Fruit_VGG16_best_model.keras\"\n",
        "checkpoint = ModelCheckpoint(filepath, monitor=\"val_loss\", save_best_only=True)\n",
        "callbacks_list = [checkpoint]"
      ],
      "metadata": {
        "id": "1rsMRgN_nhI4",
        "colab": {
          "base_uri": "https://localhost:8080/"
        },
        "outputId": "3b8e276e-d2cb-45e0-fa62-41ab4e090111"
      },
      "execution_count": null,
      "outputs": [
        {
          "output_type": "stream",
          "name": "stdout",
          "text": [
            "Model: \"sequential\"\n",
            "_________________________________________________________________\n",
            " Layer (type)                Output Shape              Param #   \n",
            "=================================================================\n",
            " vgg16 (Functional)          (None, 512)               14714688  \n",
            "                                                                 \n",
            " flatten (Flatten)           (None, 512)               0         \n",
            "                                                                 \n",
            " dense (Dense)               (None, 128)               65664     \n",
            "                                                                 \n",
            " dense_1 (Dense)             (None, 2)                 258       \n",
            "                                                                 \n",
            "=================================================================\n",
            "Total params: 14780610 (56.38 MB)\n",
            "Trainable params: 14780610 (56.38 MB)\n",
            "Non-trainable params: 0 (0.00 Byte)\n",
            "_________________________________________________________________\n"
          ]
        }
      ]
    },
    {
      "cell_type": "markdown",
      "source": [
        "## Model Training\n",
        "The model is trained for 5 epochs. The number of epochs are kept low to prevent overfitting."
      ],
      "metadata": {
        "id": "P0GnYzyj_pND"
      }
    },
    {
      "cell_type": "code",
      "source": [
        "import math\n",
        "\n",
        "model1_train_history = model1.fit_generator(\n",
        "    generator = train_loader,\n",
        "    steps_per_epoch = math.ceil(1489//32),\n",
        "    epochs = 5,\n",
        "    callbacks=callbacks_list,\n",
        "    validation_data = validation_loader,\n",
        "    validation_steps = math.ceil(319//32)\n",
        ")"
      ],
      "metadata": {
        "colab": {
          "base_uri": "https://localhost:8080/"
        },
        "id": "6TIESLTxtEmv",
        "outputId": "dddc5afe-d7d7-4b73-b668-49c9af588a3b"
      },
      "execution_count": null,
      "outputs": [
        {
          "output_type": "stream",
          "name": "stderr",
          "text": [
            "<ipython-input-9-2f4fc7b9fc71>:3: UserWarning: `Model.fit_generator` is deprecated and will be removed in a future version. Please use `Model.fit`, which supports generators.\n",
            "  model1_train_history = model1.fit_generator(\n"
          ]
        },
        {
          "output_type": "stream",
          "name": "stdout",
          "text": [
            "Epoch 1/5\n",
            "46/46 [==============================] - 476s 10s/step - loss: 0.2716 - categorical_accuracy: 0.8682 - val_loss: 5.1903e-04 - val_categorical_accuracy: 1.0000\n",
            "Epoch 2/5\n",
            "46/46 [==============================] - 38s 813ms/step - loss: 0.0186 - categorical_accuracy: 0.9979 - val_loss: 0.0077 - val_categorical_accuracy: 0.9965\n",
            "Epoch 3/5\n",
            "46/46 [==============================] - 38s 832ms/step - loss: 0.0047 - categorical_accuracy: 0.9993 - val_loss: 0.0094 - val_categorical_accuracy: 0.9965\n",
            "Epoch 4/5\n",
            "46/46 [==============================] - 39s 842ms/step - loss: 0.0080 - categorical_accuracy: 0.9986 - val_loss: 0.0125 - val_categorical_accuracy: 0.9965\n",
            "Epoch 5/5\n",
            "46/46 [==============================] - 36s 781ms/step - loss: 0.0039 - categorical_accuracy: 0.9979 - val_loss: 0.0640 - val_categorical_accuracy: 0.9931\n"
          ]
        }
      ]
    },
    {
      "cell_type": "markdown",
      "source": [
        "## Visualization of the Training Process\n",
        "It may be noted that the model starts to overfit immediately after the first epoch."
      ],
      "metadata": {
        "id": "ovSCFiFpCbHg"
      }
    },
    {
      "cell_type": "code",
      "source": [
        "import matplotlib.pyplot as plt\n",
        "%matplotlib inline\n",
        "\n",
        "acc=model1_train_history.history['categorical_accuracy']\n",
        "val_acc=model1_train_history.history['val_categorical_accuracy']\n",
        "loss=model1_train_history.history['loss']\n",
        "val_loss=model1_train_history.history['val_loss']\n",
        "epochs=range(1,len(acc)+1)\n",
        "plt.xlabel('Epochs')\n",
        "plt.ylabel('Accuracy')\n",
        "plt.plot(epochs, acc, 'bo', label='Training acc')\n",
        "plt.plot(epochs, val_acc, 'b', label='Validation acc')\n",
        "plt.title('Training and validation accuracy')\n",
        "plt.legend()\n",
        "plt.figure()\n",
        "\n",
        "plt.plot(epochs, loss, 'bo', label='Training loss')\n",
        "plt.plot(epochs, val_loss, 'b', label='Validation loss')\n",
        "plt.title('Training and validation loss')\n",
        "plt.xlabel('Epochs')\n",
        "plt.ylabel('Loss')\n",
        "plt.legend()\n",
        "plt.show()"
      ],
      "metadata": {
        "colab": {
          "base_uri": "https://localhost:8080/",
          "height": 927
        },
        "id": "fA6ugY5GFCvU",
        "outputId": "1860d506-80fb-4a89-dd9a-e00eecbf2a9c"
      },
      "execution_count": null,
      "outputs": [
        {
          "output_type": "display_data",
          "data": {
            "text/plain": [
              "<Figure size 640x480 with 1 Axes>"
            ],
            "image/png": "[encoded data removed]"
          },
          "metadata": {}
        },
        {
          "output_type": "display_data",
          "data": {
            "text/plain": [
              "<Figure size 640x480 with 1 Axes>"
            ],
            "image/png": "[encoded data removed]"
          },
          "metadata": {}
        }
      ]
    },
    {
      "cell_type": "markdown",
      "source": [
        "## Model Evaluation\n",
        "First, test data is loaded."
      ],
      "metadata": {
        "id": "hsFImR7pDC6F"
      }
    },
    {
      "cell_type": "code",
      "source": [
        "# Preparing test data\n",
        "import glob\n",
        "from pathlib import Path\n",
        "from tensorflow.keras.utils import to_categorical\n",
        "import cv2\n",
        "\n",
        "immature_cases_dir = Path('/content/drive/MyDrive/Datasets/DragonFruitMaturityDetectionDatasetSorted/Test/ImmatureDragonFruit')\n",
        "mature_cases_dir = Path('/content/drive/MyDrive/Datasets/DragonFruitMaturityDetectionDatasetSorted/Test/MatureDragonFruit')\n",
        "\n",
        "immature_cases = immature_cases_dir.glob('*.jpg')\n",
        "mature_cases = mature_cases_dir.glob('*.jpg')\n",
        "\n",
        "image_width=224\n",
        "image_height=224\n",
        "\n",
        "test_data = []\n",
        "test_labels = []\n",
        "\n",
        "for img in immature_cases:\n",
        "    img = cv2.imread(str(img))\n",
        "    img = cv2.resize(img, (image_width,image_height))\n",
        "    if img.shape[2] ==1:\n",
        "        img = np.dstack([img, img, img])\n",
        "    else:\n",
        "        img = cv2.cvtColor(img, cv2.COLOR_BGR2RGB)\n",
        "    img = img.astype(np.float32)/255.\n",
        "    label = [0]\n",
        "    test_data.append(img)\n",
        "    test_labels.append(label)\n",
        "\n",
        "for img in mature_cases:\n",
        "    img = cv2.imread(str(img))\n",
        "    img = cv2.resize(img, (image_width,image_height))\n",
        "    if img.shape[2] ==1:\n",
        "        img = np.dstack([img, img, img])\n",
        "    else:\n",
        "        img = cv2.cvtColor(img, cv2.COLOR_BGR2RGB)\n",
        "    img = img.astype(np.float32)/255.\n",
        "    label = [1]\n",
        "    test_data.append(img)\n",
        "    test_labels.append(label)\n",
        "\n",
        "test_data = np.array(test_data)\n",
        "test_labels = np.array(test_labels)\n",
        "test_labels_one_hot_encoding=to_categorical(test_labels)\n",
        "\n",
        "print(\"Total number of test examples: \", test_data.shape)\n",
        "print(\"Total number of labels:\", test_labels.shape)"
      ],
      "metadata": {
        "id": "6x6FqqlxHcZw",
        "colab": {
          "base_uri": "https://localhost:8080/"
        },
        "outputId": "a58e368c-d7b9-4bbe-ef39-524467c9ca3e"
      },
      "execution_count": null,
      "outputs": [
        {
          "output_type": "stream",
          "name": "stdout",
          "text": [
            "Total number of test examples:  (319, 224, 224, 3)\n",
            "Total number of labels: (319, 1)\n"
          ]
        }
      ]
    },
    {
      "cell_type": "markdown",
      "source": [
        "### Confusion Matrix of the Model's Performance"
      ],
      "metadata": {
        "id": "5ZFDaF10DUQU"
      }
    },
    {
      "cell_type": "code",
      "source": [
        "# Get predictions\n",
        "preds = best_model_VGG16.predict(test_data, batch_size=32)\n",
        "preds=np.around(preds)\n",
        "orig_test_labels=test_labels\n",
        "predicted_labels=np.argmax(preds,axis=1)\n",
        "predicted_labels=np.reshape(predicted_labels,(319,1))"
      ],
      "metadata": {
        "colab": {
          "base_uri": "https://localhost:8080/"
        },
        "id": "oaiP4yWm1-Uk",
        "outputId": "863731a7-6be2-4f45-a3c4-b413e04b4a9a"
      },
      "execution_count": null,
      "outputs": [
        {
          "output_type": "stream",
          "name": "stdout",
          "text": [
            "10/10 [==============================] - 1s 123ms/step\n"
          ]
        }
      ]
    },
    {
      "cell_type": "code",
      "source": [
        "# Get the confusion matrix\n",
        "from sklearn.metrics import confusion_matrix\n",
        "from mlxtend.plotting import plot_confusion_matrix\n",
        "\n",
        "cm  = confusion_matrix(orig_test_labels, predicted_labels)\n",
        "plt.figure()\n",
        "plot_confusion_matrix(cm,figsize=(12,8), hide_ticks=True,cmap=plt.cm.Blues)\n",
        "plt.xticks(range(2), ['Immature','Mature'], fontsize=16)\n",
        "plt.yticks(range(2), ['Immature','Mature'], fontsize=16)\n",
        "plt.show()"
      ],
      "metadata": {
        "colab": {
          "base_uri": "https://localhost:8080/",
          "height": 720
        },
        "id": "9BcPag8X2HYC",
        "outputId": "663a7413-2cdf-4f8f-e0e6-6336825710c2"
      },
      "execution_count": null,
      "outputs": [
        {
          "output_type": "display_data",
          "data": {
            "text/plain": [
              "<Figure size 640x480 with 0 Axes>"
            ]
          },
          "metadata": {}
        },
        {
          "output_type": "display_data",
          "data": {
            "text/plain": [
              "<Figure size 1200x800 with 1 Axes>"
            ],
            "image/png": "[encoded data removed]"
          },
          "metadata": {}
        }
      ]
    },
    {
      "cell_type": "markdown",
      "source": [
        "### Model's Test Set Accuracy"
      ],
      "metadata": {
        "id": "OVk8kzzaDhrT"
      }
    },
    {
      "cell_type": "code",
      "source": [
        "# Evaluation on test dataset\n",
        "\n",
        "test_loss, test_score = best_model_VGG16.evaluate(test_data, test_labels_one_hot_encoding, batch_size=16)\n",
        "print(\"Loss on test set: \", test_loss)\n",
        "print(\"Accuracy on test set: \", test_score)"
      ],
      "metadata": {
        "id": "x5krFJIO3TG6",
        "colab": {
          "base_uri": "https://localhost:8080/"
        },
        "outputId": "be0ce258-f605-4cb0-83e1-3b2c091b5c9e"
      },
      "execution_count": null,
      "outputs": [
        {
          "output_type": "stream",
          "name": "stdout",
          "text": [
            "20/20 [==============================] - 10s 274ms/step - loss: 1.2705e-04 - categorical_accuracy: 1.0000\n",
            "Loss on test set:  0.00012705317931249738\n",
            "Accuracy on test set:  1.0\n"
          ]
        }
      ]
    },
    {
      "cell_type": "markdown",
      "source": [
        "### Model's Sensitivity (recall), Specificity and Precision"
      ],
      "metadata": {
        "id": "Xorqk4mVDpyn"
      }
    },
    {
      "cell_type": "code",
      "source": [
        "# Calculate Precision and Recall\n",
        "tn, fp, fn, tp = cm.ravel()\n",
        "\n",
        "precision = tp/(tp+fp)\n",
        "recall = tp/(tp+fn)\n",
        "specificity=tn/(tn+fp)\n",
        "\n",
        "print(\"Sensitivity (Recall) of the model is {:.3f}\".format(recall))\n",
        "print(\"Specificity of the model is {:.3f}\".format(specificity))\n",
        "print(\"Precision of the model is {:.3f}\".format(precision))"
      ],
      "metadata": {
        "colab": {
          "base_uri": "https://localhost:8080/"
        },
        "id": "PbHWGwg_4QuC",
        "outputId": "62bdcd31-2e38-4a53-9a4c-0307a564f479"
      },
      "execution_count": null,
      "outputs": [
        {
          "output_type": "stream",
          "name": "stdout",
          "text": [
            "Sensitivity (Recall) of the model is 1.000\n",
            "Specificity of the model is 1.000\n",
            "Precision of the model is 1.000\n"
          ]
        }
      ]
    },
    {
      "cell_type": "markdown",
      "source": [
        "### Model's ROC Curve and AUC\n",
        "**Receiver operating characteristic** curve (a.k.a ROC) is a graphic plot that illustrates the diagnostic ability of a binary classifier system as its discrimination threshold is varied. The critical point here is \"binary classifier\" and \"varying threshold\". **Area Under the Curve** (a.k.a. AUC) is the percentage of the area that is under this ROC curve, ranging between 0 and 1. ROC is a great way to visualize the performance of a binary classifier, and AUC is one single number to summarize a classifier's performance. The higher the AUC is, the better the classifier."
      ],
      "metadata": {
        "id": "f2uNi2-VEs_M"
      }
    },
    {
      "cell_type": "code",
      "source": [
        "from sklearn.metrics import roc_curve\n",
        "\n",
        "predict_x = best_model_VGG16.predict(test_data)\n",
        "preds = np.argmax(predict_x,axis=1)\n",
        "fpr, tpr, thresholds = roc_curve(test_labels.ravel(), preds)"
      ],
      "metadata": {
        "colab": {
          "base_uri": "https://localhost:8080/"
        },
        "id": "AQAahFPz4hnN",
        "outputId": "2c14e2df-5036-421e-f0d2-f223a7423b36"
      },
      "execution_count": null,
      "outputs": [
        {
          "output_type": "stream",
          "name": "stdout",
          "text": [
            "10/10 [==============================] - 1s 124ms/step\n"
          ]
        }
      ]
    },
    {
      "cell_type": "code",
      "source": [
        "from sklearn.metrics import auc\n",
        "auc_var = auc(fpr, tpr)"
      ],
      "metadata": {
        "id": "9ihH0nqI6JJG"
      },
      "execution_count": null,
      "outputs": []
    },
    {
      "cell_type": "code",
      "source": [
        "import matplotlib.pyplot as plt\n",
        "%matplotlib inline\n",
        "plt.figure(1)\n",
        "plt.plot([0, 1], [0, 1], 'k--')\n",
        "plt.plot(fpr, tpr, label='VGG16 Dragon Fruit Grader (area = {:.3f})'.format(auc_var))\n",
        "plt.xlabel('False positive rate')\n",
        "plt.ylabel('True positive rate')\n",
        "plt.title('ROC curve')\n",
        "plt.legend(loc='best')\n",
        "plt.show()"
      ],
      "metadata": {
        "colab": {
          "base_uri": "https://localhost:8080/",
          "height": 472
        },
        "id": "qPv_7fJp6OIS",
        "outputId": "42646944-179e-4b6f-fc99-f7237dcfb2b9"
      },
      "execution_count": null,
      "outputs": [
        {
          "output_type": "display_data",
          "data": {
            "text/plain": [
              "<Figure size 640x480 with 1 Axes>"
            ],
            "image/png": "[encoded data removed]"
          },
          "metadata": {}
        }
      ]
    },
    {
      "cell_type": "markdown",
      "source": [
        "### Model's Precision-Recall Curve"
      ],
      "metadata": {
        "id": "KbQ9FGIiFqXb"
      }
    },
    {
      "cell_type": "code",
      "source": [
        "from sklearn.metrics import precision_recall_curve\n",
        "from sklearn.metrics import f1_score\n",
        "from sklearn.metrics import average_precision_score"
      ],
      "metadata": {
        "id": "A4UN6sZ76jm0"
      },
      "execution_count": null,
      "outputs": []
    },
    {
      "cell_type": "code",
      "source": [
        "precision, recall, thresholds = precision_recall_curve(test_labels.ravel(), preds)"
      ],
      "metadata": {
        "id": "mx3hZDg_7daD"
      },
      "execution_count": null,
      "outputs": []
    },
    {
      "cell_type": "code",
      "source": [
        "auc_var2 = auc(recall, precision)"
      ],
      "metadata": {
        "id": "7JKFA1c-7jGh"
      },
      "execution_count": null,
      "outputs": []
    },
    {
      "cell_type": "code",
      "source": [
        "plt.figure()\n",
        "plt.plot(recall, precision, label='VGG16 Dragon Fruit Grader (area = {:.3f})'.format(auc_var2))\n",
        "plt.xlabel('Recall')\n",
        "plt.ylabel('Precision')\n",
        "plt.title('Precision-Recall curve')\n",
        "plt.legend(loc='best')\n",
        "plt.show()"
      ],
      "metadata": {
        "colab": {
          "base_uri": "https://localhost:8080/",
          "height": 472
        },
        "id": "hTg5kYQ37w_i",
        "outputId": "ce10f33c-35f4-41f0-ce09-4e148e991dbd"
      },
      "execution_count": null,
      "outputs": [
        {
          "output_type": "display_data",
          "data": {
            "text/plain": [
              "<Figure size 640x480 with 1 Axes>"
            ],
            "image/png": "[encoded data removed]"
          },
          "metadata": {}
        }
      ]
    },
    {
      "cell_type": "markdown",
      "source": [
        "### Model's Average Precision Score and F1 Score"
      ],
      "metadata": {
        "id": "WbiC436hF05P"
      }
    },
    {
      "cell_type": "code",
      "source": [
        "print('Average Precision Score: {:.3f}'.format(average_precision_score(test_labels.ravel(), preds)))"
      ],
      "metadata": {
        "colab": {
          "base_uri": "https://localhost:8080/"
        },
        "id": "VVjhKNQV78Nr",
        "outputId": "ba3202eb-a619-4882-9e5b-ca8f20cedb6e"
      },
      "execution_count": null,
      "outputs": [
        {
          "output_type": "stream",
          "name": "stdout",
          "text": [
            "Average Precision Score: 1.000\n"
          ]
        }
      ]
    },
    {
      "cell_type": "code",
      "source": [
        "print(\"F1 Score: {:.3f}\".format(f1_score(test_labels.ravel(),predicted_labels.ravel())))"
      ],
      "metadata": {
        "colab": {
          "base_uri": "https://localhost:8080/"
        },
        "id": "_K_wN51e8C1K",
        "outputId": "fbc465f1-df29-481c-ba6b-4a1bf3c910b5"
      },
      "execution_count": null,
      "outputs": [
        {
          "output_type": "stream",
          "name": "stdout",
          "text": [
            "F1 Score: 1.000\n"
          ]
        }
      ]
    }
  ]
}